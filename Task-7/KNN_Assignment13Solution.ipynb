{
  "nbformat": 4,
  "nbformat_minor": 0,
  "metadata": {
    "colab": {
      "name": "KNN_Assignment13Solution.ipynb",
      "provenance": [],
      "collapsed_sections": [
        "cYfKp7MQgwX7"
      ]
    },
    "kernelspec": {
      "name": "python3",
      "display_name": "Python 3"
    },
    "language_info": {
      "name": "python"
    }
  },
  "cells": [
    {
      "cell_type": "code",
      "metadata": {
        "id": "JolSMtbOfmc9"
      },
      "source": [
        "#Social_Networks_Ads.csv"
      ],
      "execution_count": null,
      "outputs": []
    },
    {
      "cell_type": "markdown",
      "metadata": {
        "id": "h_3tQC1Kf0ut"
      },
      "source": [
        "**Importing the libraries**"
      ]
    },
    {
      "cell_type": "code",
      "metadata": {
        "id": "EObl2Z6IfyG4"
      },
      "source": [
        "import pandas as pd\n",
        "import numpy as np\n",
        "import seaborn as sns\n",
        "import matplotlib.pyplot as plt\n",
        "import warnings\n",
        "warnings.filterwarnings('ignore')"
      ],
      "execution_count": null,
      "outputs": []
    },
    {
      "cell_type": "markdown",
      "metadata": {
        "id": "yxzr0NOWf73l"
      },
      "source": [
        "**Importing the dataset**"
      ]
    },
    {
      "cell_type": "code",
      "metadata": {
        "id": "nN9xC2r6fyMZ"
      },
      "source": [
        "df = pd.read_csv('https://raw.githubusercontent.com/ShubhamAgr09/Training-Datasets/main/Social_Network_Ads.csv')"
      ],
      "execution_count": null,
      "outputs": []
    },
    {
      "cell_type": "markdown",
      "source": [
        "**ENCODING**"
      ],
      "metadata": {
        "id": "1EBqEBjqoySG"
      }
    },
    {
      "cell_type": "code",
      "source": [
        "df.Gender = df.Gender.map({'Male':1,'Female':0})"
      ],
      "metadata": {
        "id": "3fJrd3eRo1is"
      },
      "execution_count": null,
      "outputs": []
    },
    {
      "cell_type": "markdown",
      "source": [
        "**EDA**"
      ],
      "metadata": {
        "id": "Z9gpSZOVfyPX"
      }
    },
    {
      "cell_type": "code",
      "source": [
        "corr = df.corr()\n",
        "fig, ax = plt.subplots(figsize=(10, 10))\n",
        "sns.heatmap(corr, cmap='RdBu', annot=True, fmt=\".2f\")\n",
        "plt.xticks(range(len(corr.columns)), corr.columns);\n",
        "plt.yticks(range(len(corr.columns)), corr.columns)\n",
        "plt.show()"
      ],
      "metadata": {
        "colab": {
          "base_uri": "https://localhost:8080/",
          "height": 610
        },
        "id": "hXY-IsProlDs",
        "outputId": "bf741291-eaac-4e70-dbe6-9a9f5653c939"
      },
      "execution_count": null,
      "outputs": [
        {
          "output_type": "display_data",
          "data": {
            "text/plain": [
              "<Figure size 720x720 with 2 Axes>"
            ],
            "image/png": "[encoded data removed]"
          },
          "metadata": {
            "needs_background": "light"
          }
        }
      ]
    },
    {
      "cell_type": "markdown",
      "source": [
        "Dropping Age column as correlation between Age and Purchased represents non-linear relation."
      ],
      "metadata": {
        "id": "PGgPJgAGWGVH"
      }
    },
    {
      "cell_type": "markdown",
      "metadata": {
        "id": "_lrDXgjIgGJ3"
      },
      "source": [
        "**Splitting the dataset into the Training set and Test set**"
      ]
    },
    {
      "cell_type": "code",
      "metadata": {
        "id": "z2QWVTZUfyUB"
      },
      "source": [
        "X = df[['Age', 'EstimatedSalary']].values\n",
        "y = df.iloc[:,-1].values"
      ],
      "execution_count": null,
      "outputs": []
    },
    {
      "cell_type": "code",
      "source": [
        "from sklearn.model_selection import train_test_split\n",
        "X_train, X_test, y_train, y_test = train_test_split(X,y,test_size=.2, random_state=2)"
      ],
      "metadata": {
        "id": "ksSZLjbypKrS"
      },
      "execution_count": null,
      "outputs": []
    },
    {
      "cell_type": "markdown",
      "metadata": {
        "id": "XmzkAVfggNrD"
      },
      "source": [
        "**Feature Scaling**"
      ]
    },
    {
      "cell_type": "code",
      "metadata": {
        "id": "UZUJ4Xn4fyW6"
      },
      "source": [
        "from sklearn.preprocessing import StandardScaler\n",
        "scaler = StandardScaler()\n",
        "X_train = scaler.fit_transform(X_train)\n",
        "X_test = scaler.transform(X_test)"
      ],
      "execution_count": null,
      "outputs": []
    },
    {
      "cell_type": "markdown",
      "metadata": {
        "id": "BWpz-G_KgaB5"
      },
      "source": [
        "**Fitting K-NN to the Training set**"
      ]
    },
    {
      "cell_type": "code",
      "source": [
        "from sklearn.neighbors import KNeighborsClassifier\n",
        "\n",
        "nb_list = [2,3,4,5,6,7,8,9,10,15,20,30]\n",
        "for nb in nb_list:\n",
        "  knn=KNeighborsClassifier(n_neighbors=nb,algorithm='kd_tree')\n",
        "  knn.fit(X_train,y_train)\n",
        "  print('Neighbors= {}  train-score= {}  test-score= {}'.format(nb,knn.score(X_train,y_train),knn.score(X_test,y_test)))"
      ],
      "metadata": {
        "colab": {
          "base_uri": "https://localhost:8080/"
        },
        "id": "267Lghghx2kv",
        "outputId": "b7c798bd-bde8-47b0-d094-b882f0289a88"
      },
      "execution_count": null,
      "outputs": [
        {
          "output_type": "stream",
          "name": "stdout",
          "text": [
            "Neighbors= 2  train-score= 0.921875  test-score= 0.85\n",
            "Neighbors= 3  train-score= 0.925  test-score= 0.925\n",
            "Neighbors= 4  train-score= 0.925  test-score= 0.8625\n",
            "Neighbors= 5  train-score= 0.921875  test-score= 0.8875\n",
            "Neighbors= 6  train-score= 0.915625  test-score= 0.875\n",
            "Neighbors= 7  train-score= 0.928125  test-score= 0.9\n",
            "Neighbors= 8  train-score= 0.9125  test-score= 0.875\n",
            "Neighbors= 9  train-score= 0.915625  test-score= 0.9125\n",
            "Neighbors= 10  train-score= 0.915625  test-score= 0.8875\n",
            "Neighbors= 15  train-score= 0.90625  test-score= 0.9\n",
            "Neighbors= 20  train-score= 0.9  test-score= 0.925\n",
            "Neighbors= 30  train-score= 0.896875  test-score= 0.9\n"
          ]
        }
      ]
    },
    {
      "cell_type": "code",
      "source": [
        "from sklearn.neighbors import KNeighborsClassifier\n",
        "\n",
        "nb_list = [2,3,4,5,6,7,8,9,10,15,20,30]\n",
        "for nb in nb_list:\n",
        "  knn=KNeighborsClassifier(n_neighbors=nb,algorithm='kd_tree')\n",
        "  knn.fit(X_train,y_train)\n",
        "  print('Neighbors= {}  train-score= {}  test-score= {}'.format(nb,knn.score(X_train,y_train),knn.score(X_test,y_test)))"
      ],
      "metadata": {
        "colab": {
          "base_uri": "https://localhost:8080/"
        },
        "id": "mPlfm4U6ON9l",
        "outputId": "64c5256c-9bc7-428f-815b-739bfcb78873"
      },
      "execution_count": null,
      "outputs": [
        {
          "output_type": "stream",
          "name": "stdout",
          "text": [
            "Neighbors= 2  train-score= 0.921875  test-score= 0.85\n",
            "Neighbors= 3  train-score= 0.925  test-score= 0.925\n",
            "Neighbors= 4  train-score= 0.925  test-score= 0.8625\n",
            "Neighbors= 5  train-score= 0.921875  test-score= 0.8875\n",
            "Neighbors= 6  train-score= 0.915625  test-score= 0.875\n",
            "Neighbors= 7  train-score= 0.928125  test-score= 0.9\n",
            "Neighbors= 8  train-score= 0.9125  test-score= 0.875\n",
            "Neighbors= 9  train-score= 0.915625  test-score= 0.9125\n",
            "Neighbors= 10  train-score= 0.915625  test-score= 0.8875\n",
            "Neighbors= 15  train-score= 0.90625  test-score= 0.9\n",
            "Neighbors= 20  train-score= 0.9  test-score= 0.925\n",
            "Neighbors= 30  train-score= 0.896875  test-score= 0.9\n"
          ]
        }
      ]
    },
    {
      "cell_type": "code",
      "source": [
        "knn=KNeighborsClassifier(n_neighbors=3,algorithm='kd_tree')\n",
        "knn.fit(X_train,y_train)"
      ],
      "metadata": {
        "id": "FCuUjm9ZyfeR",
        "colab": {
          "base_uri": "https://localhost:8080/"
        },
        "outputId": "323f8b01-7c53-46ac-e411-a15f034edda0"
      },
      "execution_count": null,
      "outputs": [
        {
          "output_type": "execute_result",
          "data": {
            "text/plain": [
              "KNeighborsClassifier(algorithm='kd_tree', n_neighbors=3)"
            ]
          },
          "metadata": {},
          "execution_count": 11
        }
      ]
    },
    {
      "cell_type": "markdown",
      "metadata": {
        "id": "GoGxoF-kgmlj"
      },
      "source": [
        "**Predicting the Test set results**"
      ]
    },
    {
      "cell_type": "code",
      "source": [
        "y_pred = knn.predict(X_test)"
      ],
      "metadata": {
        "id": "0W_P25WsylOg"
      },
      "execution_count": null,
      "outputs": []
    },
    {
      "cell_type": "markdown",
      "metadata": {
        "id": "cYfKp7MQgwX7"
      },
      "source": [
        "**Making the Confusion Matrix**"
      ]
    },
    {
      "cell_type": "code",
      "metadata": {
        "id": "zFhgq3Yufyh5",
        "colab": {
          "base_uri": "https://localhost:8080/"
        },
        "outputId": "6b10ac64-f2f5-4ad4-bf9d-4daf4ca10b61"
      },
      "source": [
        "from sklearn.metrics import classification_report, confusion_matrix\n",
        "\n",
        "print('Classification Report:')\n",
        "print(classification_report(y_test, y_pred))\n",
        "print('Confusion Matrix:')\n",
        "print(confusion_matrix(y_test, y_pred))"
      ],
      "execution_count": null,
      "outputs": [
        {
          "output_type": "stream",
          "name": "stdout",
          "text": [
            "Classification Report:\n",
            "              precision    recall  f1-score   support\n",
            "\n",
            "           0       0.92      0.96      0.94        48\n",
            "           1       0.93      0.88      0.90        32\n",
            "\n",
            "    accuracy                           0.93        80\n",
            "   macro avg       0.93      0.92      0.92        80\n",
            "weighted avg       0.93      0.93      0.92        80\n",
            "\n",
            "Confusion Matrix:\n",
            "[[46  2]\n",
            " [ 4 28]]\n"
          ]
        }
      ]
    },
    {
      "cell_type": "markdown",
      "source": [
        "**Evaluation Metric**"
      ],
      "metadata": {
        "id": "Pc1SHHc7zDB4"
      }
    },
    {
      "cell_type": "code",
      "source": [
        "from sklearn.metrics import plot_roc_curve, roc_curve, roc_auc_score, confusion_matrix, f1_score\n",
        "confusion_matrix(y_test,y_pred)\n",
        "f1_score(y_test,knn.predict(X_test))\n",
        "fpr, tpr, thresholds = roc_curve(y_test, y_pred, pos_label=2)\n",
        "plot_roc_curve(knn, X_test, y_test) # plot_roc_curve(model,X_test,y_test) - Syntax : plot_roc_curve(model,fts_of_test, target_of_test)"
      ],
      "metadata": {
        "colab": {
          "base_uri": "https://localhost:8080/",
          "height": 296
        },
        "id": "y6ZJPSv-zDV9",
        "outputId": "dd5f9246-57dc-46fb-ac2d-8220fd808a5c"
      },
      "execution_count": null,
      "outputs": [
        {
          "output_type": "execute_result",
          "data": {
            "text/plain": [
              "<sklearn.metrics._plot.roc_curve.RocCurveDisplay at 0x7fe7a859d650>"
            ]
          },
          "metadata": {},
          "execution_count": 14
        },
        {
          "output_type": "display_data",
          "data": {
            "text/plain": [
              "<Figure size 432x288 with 1 Axes>"
            ],
            "image/png": "[encoded data removed]"
          },
          "metadata": {
            "needs_background": "light"
          }
        }
      ]
    }
  ]
}