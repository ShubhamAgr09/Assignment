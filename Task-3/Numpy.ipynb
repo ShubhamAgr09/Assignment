{
  "cells": [
    {
      "cell_type": "markdown",
      "metadata": {
        "id": "H2m5O-iaG_to"
      },
      "source": [
        "# Numpy\n",
        "\n"
      ]
    },
    {
      "cell_type": "markdown",
      "metadata": {
        "id": "i3xsJUiBG_t1"
      },
      "source": [
        "#### 1. Import the numpy package under the name `np` (★☆☆) \n",
        "(**hint**: import … as …)"
      ]
    },
    {
      "cell_type": "code",
      "execution_count": 87,
      "metadata": {
        "collapsed": true,
        "id": "yT3T7XvWG_t5"
      },
      "outputs": [],
      "source": [
        "import numpy as np"
      ]
    },
    {
      "cell_type": "markdown",
      "metadata": {
        "id": "knBQq7bMG_t8"
      },
      "source": [
        "#### 2. Print the numpy version and the configuration (★☆☆) \n",
        "(**hint**: np.\\_\\_version\\_\\_, np.show\\_config)"
      ]
    },
    {
      "cell_type": "code",
      "execution_count": 88,
      "metadata": {
        "id": "tyWm7z9fG_t-",
        "outputId": "7fc7d600-b032-4b91-c37b-7226d86ecd0c",
        "colab": {
          "base_uri": "https://localhost:8080/"
        }
      },
      "outputs": [
        {
          "output_type": "stream",
          "name": "stdout",
          "text": [
            "1.21.6\n",
            "blas_mkl_info:\n",
            "  NOT AVAILABLE\n",
            "blis_info:\n",
            "  NOT AVAILABLE\n",
            "openblas_info:\n",
            "    libraries = ['openblas', 'openblas']\n",
            "    library_dirs = ['/usr/local/lib']\n",
            "    language = c\n",
            "    define_macros = [('HAVE_CBLAS', None)]\n",
            "    runtime_library_dirs = ['/usr/local/lib']\n",
            "blas_opt_info:\n",
            "    libraries = ['openblas', 'openblas']\n",
            "    library_dirs = ['/usr/local/lib']\n",
            "    language = c\n",
            "    define_macros = [('HAVE_CBLAS', None)]\n",
            "    runtime_library_dirs = ['/usr/local/lib']\n",
            "lapack_mkl_info:\n",
            "  NOT AVAILABLE\n",
            "openblas_lapack_info:\n",
            "    libraries = ['openblas', 'openblas']\n",
            "    library_dirs = ['/usr/local/lib']\n",
            "    language = c\n",
            "    define_macros = [('HAVE_CBLAS', None)]\n",
            "    runtime_library_dirs = ['/usr/local/lib']\n",
            "lapack_opt_info:\n",
            "    libraries = ['openblas', 'openblas']\n",
            "    library_dirs = ['/usr/local/lib']\n",
            "    language = c\n",
            "    define_macros = [('HAVE_CBLAS', None)]\n",
            "    runtime_library_dirs = ['/usr/local/lib']\n",
            "Supported SIMD extensions in this NumPy install:\n",
            "    baseline = SSE,SSE2,SSE3\n",
            "    found = SSSE3,SSE41,POPCNT,SSE42,AVX,F16C,FMA3,AVX2\n",
            "    not found = AVX512F,AVX512CD,AVX512_KNL,AVX512_KNM,AVX512_SKX,AVX512_CLX,AVX512_CNL,AVX512_ICL\n"
          ]
        }
      ],
      "source": [
        "print(np.__version__)\n",
        "np.show_config()"
      ]
    },
    {
      "cell_type": "markdown",
      "metadata": {
        "id": "YSKbbfmWG_t-"
      },
      "source": [
        "#### 3. Create a null vector of size 10 (★☆☆) \n",
        "(**hint**: np.zeros)"
      ]
    },
    {
      "cell_type": "code",
      "execution_count": 89,
      "metadata": {
        "id": "Owr_ODteG_t_",
        "outputId": "e7062a56-8b1a-465e-937e-dfe1a8cace59",
        "colab": {
          "base_uri": "https://localhost:8080/"
        }
      },
      "outputs": [
        {
          "output_type": "execute_result",
          "data": {
            "text/plain": [
              "array([0., 0., 0., 0., 0., 0., 0., 0., 0., 0.])"
            ]
          },
          "metadata": {},
          "execution_count": 89
        }
      ],
      "source": [
        "np.zeros(10)"
      ]
    },
    {
      "cell_type": "markdown",
      "metadata": {
        "id": "HYjDJcmcG_uB"
      },
      "source": [
        "#### 4.  How to find the memory size of any array (★☆☆) \n",
        "(**hint**: size, itemsize)"
      ]
    },
    {
      "cell_type": "code",
      "execution_count": 90,
      "metadata": {
        "id": "7dAS5TDeG_uD",
        "outputId": "28ade5bc-96a3-4638-f8b3-aca221f5a047",
        "colab": {
          "base_uri": "https://localhost:8080/"
        }
      },
      "outputs": [
        {
          "output_type": "stream",
          "name": "stdout",
          "text": [
            "8\n"
          ]
        },
        {
          "output_type": "execute_result",
          "data": {
            "text/plain": [
              "16"
            ]
          },
          "metadata": {},
          "execution_count": 90
        }
      ],
      "source": [
        "a=np.zeros(16).reshape(4,4)\n",
        "print(a.itemsize)\n",
        "a.size"
      ]
    },
    {
      "cell_type": "markdown",
      "metadata": {
        "id": "_jV7QOjBG_uE"
      },
      "source": [
        "#### 5.  How to get the documentation of the numpy add function from the command line? (★☆☆) \n",
        "(**hint**: np.info)"
      ]
    },
    {
      "cell_type": "code",
      "execution_count": 91,
      "metadata": {
        "collapsed": true,
        "id": "CA43nKMdG_uG",
        "outputId": "fbdfffaa-7149-49b6-e226-ae09221e4917",
        "colab": {
          "base_uri": "https://localhost:8080/"
        }
      },
      "outputs": [
        {
          "output_type": "stream",
          "name": "stdout",
          "text": [
            "add(x1, x2, /, out=None, *, where=True, casting='same_kind', order='K', dtype=None, subok=True[, signature, extobj])\n",
            "\n",
            "Add arguments element-wise.\n",
            "\n",
            "Parameters\n",
            "----------\n",
            "x1, x2 : array_like\n",
            "    The arrays to be added.\n",
            "    If ``x1.shape != x2.shape``, they must be broadcastable to a common\n",
            "    shape (which becomes the shape of the output).\n",
            "out : ndarray, None, or tuple of ndarray and None, optional\n",
            "    A location into which the result is stored. If provided, it must have\n",
            "    a shape that the inputs broadcast to. If not provided or None,\n",
            "    a freshly-allocated array is returned. A tuple (possible only as a\n",
            "    keyword argument) must have length equal to the number of outputs.\n",
            "where : array_like, optional\n",
            "    This condition is broadcast over the input. At locations where the\n",
            "    condition is True, the `out` array will be set to the ufunc result.\n",
            "    Elsewhere, the `out` array will retain its original value.\n",
            "    Note that if an uninitialized `out` array is created via the default\n",
            "    ``out=None``, locations within it where the condition is False will\n",
            "    remain uninitialized.\n",
            "**kwargs\n",
            "    For other keyword-only arguments, see the\n",
            "    :ref:`ufunc docs <ufuncs.kwargs>`.\n",
            "\n",
            "Returns\n",
            "-------\n",
            "add : ndarray or scalar\n",
            "    The sum of `x1` and `x2`, element-wise.\n",
            "    This is a scalar if both `x1` and `x2` are scalars.\n",
            "\n",
            "Notes\n",
            "-----\n",
            "Equivalent to `x1` + `x2` in terms of array broadcasting.\n",
            "\n",
            "Examples\n",
            "--------\n",
            ">>> np.add(1.0, 4.0)\n",
            "5.0\n",
            ">>> x1 = np.arange(9.0).reshape((3, 3))\n",
            ">>> x2 = np.arange(3.0)\n",
            ">>> np.add(x1, x2)\n",
            "array([[  0.,   2.,   4.],\n",
            "       [  3.,   5.,   7.],\n",
            "       [  6.,   8.,  10.]])\n",
            "\n",
            "The ``+`` operator can be used as a shorthand for ``np.add`` on ndarrays.\n",
            "\n",
            ">>> x1 = np.arange(9.0).reshape((3, 3))\n",
            ">>> x2 = np.arange(3.0)\n",
            ">>> x1 + x2\n",
            "array([[ 0.,  2.,  4.],\n",
            "       [ 3.,  5.,  7.],\n",
            "       [ 6.,  8., 10.]])\n"
          ]
        }
      ],
      "source": [
        "np.info(np.add)"
      ]
    },
    {
      "cell_type": "markdown",
      "metadata": {
        "id": "xvBJoirIG_uG"
      },
      "source": [
        "#### 6.  Create a null vector of size 10 but the fifth value which is 1 (★☆☆) \n",
        "(**hint**: array\\[4\\])"
      ]
    },
    {
      "cell_type": "code",
      "execution_count": 92,
      "metadata": {
        "id": "t8WaAQkMG_uI",
        "colab": {
          "base_uri": "https://localhost:8080/"
        },
        "outputId": "840af829-c294-4ca2-c32e-7bbf43ca4f49"
      },
      "outputs": [
        {
          "output_type": "execute_result",
          "data": {
            "text/plain": [
              "array([0., 0., 0., 0., 1., 0., 0., 0., 0., 0.])"
            ]
          },
          "metadata": {},
          "execution_count": 92
        }
      ],
      "source": [
        "array=np.zeros(10)\n",
        "array[4]=1\n",
        "array"
      ]
    },
    {
      "cell_type": "markdown",
      "metadata": {
        "id": "mVWX1nvdG_uJ"
      },
      "source": [
        "#### 7.  Create a vector with values ranging from 10 to 49 (★☆☆) \n",
        "(**hint**: np.arange)"
      ]
    },
    {
      "cell_type": "code",
      "execution_count": 93,
      "metadata": {
        "id": "r9HRShDWG_uK",
        "colab": {
          "base_uri": "https://localhost:8080/"
        },
        "outputId": "9c8a3896-4698-4d7e-a5df-bd96f0faa61f"
      },
      "outputs": [
        {
          "output_type": "execute_result",
          "data": {
            "text/plain": [
              "array([10, 11, 12, 13, 14, 15, 16, 17, 18, 19, 20, 21, 22, 23, 24, 25, 26,\n",
              "       27, 28, 29, 30, 31, 32, 33, 34, 35, 36, 37, 38, 39, 40, 41, 42, 43,\n",
              "       44, 45, 46, 47, 48, 49])"
            ]
          },
          "metadata": {},
          "execution_count": 93
        }
      ],
      "source": [
        "a=np.arange(10,50)\n",
        "a"
      ]
    },
    {
      "cell_type": "markdown",
      "metadata": {
        "id": "G-07lU1-G_uL"
      },
      "source": [
        "#### 8.  Reverse a vector (first element becomes last) (★☆☆) \n",
        "(**hint**: array\\[::-1\\])"
      ]
    },
    {
      "cell_type": "code",
      "execution_count": 94,
      "metadata": {
        "id": "XKn7vB23G_uM",
        "colab": {
          "base_uri": "https://localhost:8080/"
        },
        "outputId": "119a6581-4ac3-47d2-e9d9-17dc00172267"
      },
      "outputs": [
        {
          "output_type": "execute_result",
          "data": {
            "text/plain": [
              "array([39, 38, 37, 36, 35, 34, 33, 32, 31, 30, 29, 28, 27, 26, 25, 24, 23,\n",
              "       22, 21, 20, 19, 18, 17, 16, 15, 14, 13, 12, 11, 10])"
            ]
          },
          "metadata": {},
          "execution_count": 94
        }
      ],
      "source": [
        "n=np.arange(10,40)\n",
        "n[::-1]"
      ]
    },
    {
      "cell_type": "markdown",
      "metadata": {
        "id": "pOmCwbJYG_uN"
      },
      "source": [
        "#### 9.  Create a 3x3 matrix with values ranging from 0 to 8 (★☆☆) \n",
        "(**hint**: reshape)"
      ]
    },
    {
      "cell_type": "code",
      "execution_count": 95,
      "metadata": {
        "id": "ReFJbNVXG_uO",
        "colab": {
          "base_uri": "https://localhost:8080/"
        },
        "outputId": "471bbeed-f5ff-4790-cf7a-d311e18ad15e"
      },
      "outputs": [
        {
          "output_type": "execute_result",
          "data": {
            "text/plain": [
              "array([[0, 1, 2],\n",
              "       [3, 4, 5],\n",
              "       [6, 7, 8]])"
            ]
          },
          "metadata": {},
          "execution_count": 95
        }
      ],
      "source": [
        "np.arange(9).reshape(3,3)"
      ]
    },
    {
      "cell_type": "markdown",
      "metadata": {
        "id": "udRf9l8UG_uO"
      },
      "source": [
        "#### 10. Find indices of non-zero elements from \\[1,2,0,0,4,0\\] (★☆☆) \n",
        "(**hint**: np.nonzero)"
      ]
    },
    {
      "cell_type": "code",
      "execution_count": 96,
      "metadata": {
        "id": "XDKukYfHG_uP",
        "colab": {
          "base_uri": "https://localhost:8080/"
        },
        "outputId": "21891049-d86a-400d-f5fd-dd2040be7f97"
      },
      "outputs": [
        {
          "output_type": "execute_result",
          "data": {
            "text/plain": [
              "(array([0, 1, 4]),)"
            ]
          },
          "metadata": {},
          "execution_count": 96
        }
      ],
      "source": [
        "a=np.array([1,2,0,0,4,0])\n",
        "np.nonzero(a)"
      ]
    },
    {
      "cell_type": "markdown",
      "metadata": {
        "id": "PzTDyDEpG_uQ"
      },
      "source": [
        "#### 11. Create a 3x3 identity matrix (★☆☆) \n",
        "(**hint**: np.eye)"
      ]
    },
    {
      "cell_type": "code",
      "execution_count": 97,
      "metadata": {
        "id": "8JjmiZ4dG_uR",
        "colab": {
          "base_uri": "https://localhost:8080/"
        },
        "outputId": "a53a55ed-e621-483b-827a-499792811174"
      },
      "outputs": [
        {
          "output_type": "execute_result",
          "data": {
            "text/plain": [
              "array([[1., 0., 0.],\n",
              "       [0., 1., 0.],\n",
              "       [0., 0., 1.]])"
            ]
          },
          "metadata": {},
          "execution_count": 97
        }
      ],
      "source": [
        "np.eye(3,3)"
      ]
    },
    {
      "cell_type": "markdown",
      "metadata": {
        "id": "CrlHNcZaG_uS"
      },
      "source": [
        "#### 12. Create a 3x3x3 array with random values (★☆☆) \n",
        "(**hint**: np.random.random)"
      ]
    },
    {
      "cell_type": "code",
      "execution_count": 98,
      "metadata": {
        "collapsed": true,
        "id": "rJnjf40jG_uS",
        "colab": {
          "base_uri": "https://localhost:8080/"
        },
        "outputId": "963b3756-0eeb-4d1f-bafe-4ea22a85d42d"
      },
      "outputs": [
        {
          "output_type": "execute_result",
          "data": {
            "text/plain": [
              "array([[[0.3864, 0.9226, 0.907 ],\n",
              "        [0.9552, 0.9288, 0.8279],\n",
              "        [0.454 , 0.1535, 0.1932]],\n",
              "\n",
              "       [[0.0968, 0.5333, 0.8387],\n",
              "        [0.6331, 0.1336, 0.8736],\n",
              "        [0.5885, 0.9624, 0.4779]],\n",
              "\n",
              "       [[0.4206, 0.262 , 0.5995],\n",
              "        [0.9663, 0.338 , 0.694 ],\n",
              "        [0.293 , 0.0792, 0.9574]]])"
            ]
          },
          "metadata": {},
          "execution_count": 98
        }
      ],
      "source": [
        "# np.random.randint(0,9,(3,3,3))\n",
        "np.random.random(27).reshape(3,3,3)"
      ]
    },
    {
      "cell_type": "markdown",
      "metadata": {
        "id": "9oHJzWy3G_uT"
      },
      "source": [
        "#### 13. Create a 10x10 array with random values and find the minimum and maximum values (★☆☆) \n",
        "(**hint**: min, max)"
      ]
    },
    {
      "cell_type": "code",
      "execution_count": 99,
      "metadata": {
        "id": "PTS2u_MoG_uT",
        "colab": {
          "base_uri": "https://localhost:8080/"
        },
        "outputId": "2705d9aa-40f6-4d97-bd99-05b3bd0ac2fc"
      },
      "outputs": [
        {
          "output_type": "stream",
          "name": "stdout",
          "text": [
            "99\n",
            "2\n"
          ]
        }
      ],
      "source": [
        "a=np.random.randint(1,100,(10,10))\n",
        "print(a.max())\n",
        "print(a.min())"
      ]
    },
    {
      "cell_type": "markdown",
      "metadata": {
        "id": "5Ti1Ux-XG_uT"
      },
      "source": [
        "#### 14. Create a random vector of size 30 and find the mean value (★☆☆) \n",
        "(**hint**: mean)"
      ]
    },
    {
      "cell_type": "code",
      "execution_count": 100,
      "metadata": {
        "id": "6u380BdTG_uU",
        "colab": {
          "base_uri": "https://localhost:8080/"
        },
        "outputId": "66ee8015-5da5-4897-f587-6535919ce8c6"
      },
      "outputs": [
        {
          "output_type": "execute_result",
          "data": {
            "text/plain": [
              "0.48371365254258675"
            ]
          },
          "metadata": {},
          "execution_count": 100
        }
      ],
      "source": [
        "np.random.random(30).mean()"
      ]
    },
    {
      "cell_type": "markdown",
      "metadata": {
        "id": "Dpdiw5qNG_uU"
      },
      "source": [
        "#### 15. Create a 2d array with 1 on the border and 0 inside (★☆☆) \n",
        "(**hint**: array\\[1:-1, 1:-1\\])"
      ]
    },
    {
      "cell_type": "code",
      "execution_count": 101,
      "metadata": {
        "id": "xfmGgnSUG_uV",
        "colab": {
          "base_uri": "https://localhost:8080/"
        },
        "outputId": "a4e9ebe3-2dca-4691-84f2-4b6468a53747"
      },
      "outputs": [
        {
          "output_type": "execute_result",
          "data": {
            "text/plain": [
              "array([[1., 1., 1.],\n",
              "       [1., 0., 1.],\n",
              "       [1., 1., 1.]])"
            ]
          },
          "metadata": {},
          "execution_count": 101
        }
      ],
      "source": [
        "ar=np.zeros(9).reshape(3,3)\n",
        "ar+=1\n",
        "ar[1:-1,1:-1]=0\n",
        "ar"
      ]
    },
    {
      "cell_type": "markdown",
      "metadata": {
        "id": "q36dLWc5G_uV"
      },
      "source": [
        "#### 16. How to add a border (filled with 0's) around an existing array? (★☆☆) \n",
        "(**hint**: np.pad)"
      ]
    },
    {
      "cell_type": "code",
      "execution_count": 102,
      "metadata": {
        "id": "PYF1ur40G_uW",
        "colab": {
          "base_uri": "https://localhost:8080/"
        },
        "outputId": "7b17d326-cf90-4f1b-d4b8-99b35ecf28f6"
      },
      "outputs": [
        {
          "output_type": "execute_result",
          "data": {
            "text/plain": [
              "array([0, 0, 0, 1, 2, 3, 4, 5, 0, 0])"
            ]
          },
          "metadata": {},
          "execution_count": 102
        }
      ],
      "source": [
        "np.pad([1,2,3,4,5],(3,2))"
      ]
    },
    {
      "cell_type": "markdown",
      "metadata": {
        "id": "1eIWLBwWG_uW"
      },
      "source": [
        "#### 17. What is the result of the following expression? (★☆☆) \n",
        "(**hint**: NaN = not a number, inf = infinity)"
      ]
    },
    {
      "cell_type": "markdown",
      "metadata": {
        "id": "qErmUGH7G_uX"
      },
      "source": [
        "```python\n",
        "0 * np.nan\n",
        "np.nan == np.nan\n",
        "np.inf > np.nan\n",
        "np.nan - np.nan\n",
        "0.3 == 3 * 0.1\n",
        "```"
      ]
    },
    {
      "cell_type": "code",
      "execution_count": 103,
      "metadata": {
        "id": "OORxO8w6G_uX",
        "colab": {
          "base_uri": "https://localhost:8080/"
        },
        "outputId": "8632d910-bb49-40ae-e201-20c5d6c29213"
      },
      "outputs": [
        {
          "output_type": "stream",
          "name": "stdout",
          "text": [
            "nan\n",
            "False\n",
            "False\n",
            "nan\n",
            "False\n"
          ]
        }
      ],
      "source": [
        "print(0 * np.nan)\n",
        "print(np.nan == np.nan)\n",
        "print(np.inf > np.nan)\n",
        "print(np.nan - np.nan)\n",
        "print(0.3 == 3 * 0.1)"
      ]
    },
    {
      "cell_type": "markdown",
      "metadata": {
        "id": "srwqVCykG_uX"
      },
      "source": [
        "#### 18. Create a 5x5 matrix with values 1,2,3,4 just below the diagonal (★☆☆) \n",
        "(**hint**: np.diag)"
      ]
    },
    {
      "cell_type": "code",
      "execution_count": 104,
      "metadata": {
        "id": "Q9C_XhOUG_uY",
        "colab": {
          "base_uri": "https://localhost:8080/"
        },
        "outputId": "0f29a622-523d-4d38-bd95-3aa458d5e2a0"
      },
      "outputs": [
        {
          "output_type": "execute_result",
          "data": {
            "text/plain": [
              "array([[0, 0, 0, 0, 0],\n",
              "       [1, 0, 0, 0, 0],\n",
              "       [0, 2, 0, 0, 0],\n",
              "       [0, 0, 3, 0, 0],\n",
              "       [0, 0, 0, 4, 0]])"
            ]
          },
          "metadata": {},
          "execution_count": 104
        }
      ],
      "source": [
        "n=np.arange(4)\n",
        "m=np.diag(1+n,k=-1)\n",
        "m"
      ]
    },
    {
      "cell_type": "markdown",
      "metadata": {
        "id": "B1I3ZxxkG_uY"
      },
      "source": [
        "#### 19. Create a 8x8 matrix and fill it with a checkerboard pattern (★☆☆) \n",
        "(**hint**: array\\[::2\\])"
      ]
    },
    {
      "cell_type": "code",
      "execution_count": 105,
      "metadata": {
        "id": "zogVjKdgG_uZ",
        "colab": {
          "base_uri": "https://localhost:8080/"
        },
        "outputId": "6d4304b6-20ef-4ba0-bba2-8648a5733f10"
      },
      "outputs": [
        {
          "output_type": "execute_result",
          "data": {
            "text/plain": [
              "array([[0., 1., 0., 1., 0., 1., 0., 1.],\n",
              "       [1., 0., 1., 0., 1., 0., 1., 0.],\n",
              "       [0., 1., 0., 1., 0., 1., 0., 1.],\n",
              "       [1., 0., 1., 0., 1., 0., 1., 0.],\n",
              "       [0., 1., 0., 1., 0., 1., 0., 1.],\n",
              "       [1., 0., 1., 0., 1., 0., 1., 0.],\n",
              "       [0., 1., 0., 1., 0., 1., 0., 1.],\n",
              "       [1., 0., 1., 0., 1., 0., 1., 0.]])"
            ]
          },
          "metadata": {},
          "execution_count": 105
        }
      ],
      "source": [
        "n=np.zeros(64).reshape(8,8)\n",
        "n[1::2,::2] = 1\n",
        "n[::2,1::2] = 1\n",
        "n"
      ]
    },
    {
      "cell_type": "markdown",
      "metadata": {
        "id": "czHG7QbpG_uZ"
      },
      "source": [
        "#### 20. Consider a (6,7,8) shape array, what is the index (x,y,z) of the 100th element? \n",
        "(**hint**: np.unravel_index)"
      ]
    },
    {
      "cell_type": "code",
      "execution_count": 106,
      "metadata": {
        "id": "a_XjiQOvG_ua",
        "colab": {
          "base_uri": "https://localhost:8080/"
        },
        "outputId": "3a6cbe4f-3399-4e31-aea2-073934f7e4e8"
      },
      "outputs": [
        {
          "output_type": "execute_result",
          "data": {
            "text/plain": [
              "(1, 5, 4)"
            ]
          },
          "metadata": {},
          "execution_count": 106
        }
      ],
      "source": [
        "np.unravel_index(100,(6,7,8))"
      ]
    },
    {
      "cell_type": "markdown",
      "metadata": {
        "id": "4zVFbRIYG_ua"
      },
      "source": [
        "#### 21. Create a checkerboard 8x8 matrix using the tile function (★☆☆) \n",
        "(**hint**: np.tile)"
      ]
    },
    {
      "cell_type": "code",
      "execution_count": 107,
      "metadata": {
        "id": "q3PPz0nLG_ua",
        "colab": {
          "base_uri": "https://localhost:8080/"
        },
        "outputId": "6269b267-f405-415d-cb11-d2a6c5225cf3"
      },
      "outputs": [
        {
          "output_type": "execute_result",
          "data": {
            "text/plain": [
              "array([[0, 1, 0, 1, 0, 1, 0, 1],\n",
              "       [1, 0, 1, 0, 1, 0, 1, 0],\n",
              "       [0, 1, 0, 1, 0, 1, 0, 1],\n",
              "       [1, 0, 1, 0, 1, 0, 1, 0],\n",
              "       [0, 1, 0, 1, 0, 1, 0, 1],\n",
              "       [1, 0, 1, 0, 1, 0, 1, 0],\n",
              "       [0, 1, 0, 1, 0, 1, 0, 1],\n",
              "       [1, 0, 1, 0, 1, 0, 1, 0]])"
            ]
          },
          "metadata": {},
          "execution_count": 107
        }
      ],
      "source": [
        "ar=np.array([[0,1],[1,0]])\n",
        "np.tile(ar,(4,4))"
      ]
    },
    {
      "cell_type": "markdown",
      "metadata": {
        "id": "KU8a9dN2G_ub"
      },
      "source": [
        "#### 22. Normalize a 5x5 random matrix (★☆☆) \n",
        "(**hint**: (x - min) / (max - min))"
      ]
    },
    {
      "cell_type": "code",
      "execution_count": 108,
      "metadata": {
        "id": "-6YbsOn6G_ub",
        "colab": {
          "base_uri": "https://localhost:8080/"
        },
        "outputId": "67182666-5a32-47e8-b8ae-38954fe62811"
      },
      "outputs": [
        {
          "output_type": "execute_result",
          "data": {
            "text/plain": [
              "array([[0.    , 0.0417, 0.0833, 0.125 , 0.1667],\n",
              "       [0.2083, 0.25  , 0.2917, 0.3333, 0.375 ],\n",
              "       [0.4167, 0.4583, 0.5   , 0.5417, 0.5833],\n",
              "       [0.625 , 0.6667, 0.7083, 0.75  , 0.7917],\n",
              "       [0.8333, 0.875 , 0.9167, 0.9583, 1.    ]])"
            ]
          },
          "metadata": {},
          "execution_count": 108
        }
      ],
      "source": [
        "# check later\n",
        "ar=np.arange(1,26).reshape(5,5)\n",
        "ar=(ar-ar.min())/(ar.max()-ar.min())\n",
        "ar"
      ]
    },
    {
      "cell_type": "markdown",
      "metadata": {
        "id": "oBIbykcIG_ub"
      },
      "source": [
        "#### 23. Create a custom dtype that describes a color as four unsigned bytes (RGBA) (★☆☆) \n",
        "(**hint**: np.dtype)"
      ]
    },
    {
      "cell_type": "code",
      "execution_count": 109,
      "metadata": {
        "collapsed": true,
        "id": "XRk6XYFKG_uc",
        "colab": {
          "base_uri": "https://localhost:8080/"
        },
        "outputId": "aab9f837-a0d3-4078-c4b4-f35a6d7df54d"
      },
      "outputs": [
        {
          "output_type": "execute_result",
          "data": {
            "text/plain": [
              "dtype([('r', 'u1'), ('g', 'u1'), ('b', 'u1'), ('a', 'u1')])"
            ]
          },
          "metadata": {},
          "execution_count": 109
        }
      ],
      "source": [
        "custom_color = np.dtype([(\"r\", np.ubyte),\n",
        "                          (\"g\", np.ubyte),\n",
        "                          (\"b\", np.ubyte),\n",
        "                          (\"a\", np.ubyte)\n",
        "                        ])\n",
        "custom_color"
      ]
    },
    {
      "cell_type": "markdown",
      "metadata": {
        "id": "d9FkvXEIG_ud"
      },
      "source": [
        "#### 24. Multiply a 5x3 matrix by a 3x2 matrix (real matrix product) (★☆☆) \n",
        "(**hint**: np.dot | @)"
      ]
    },
    {
      "cell_type": "code",
      "execution_count": 110,
      "metadata": {
        "id": "Qe_32FaoG_ue",
        "colab": {
          "base_uri": "https://localhost:8080/"
        },
        "outputId": "24b8ce71-13e4-4c1f-963c-4e2bdac2d4ba"
      },
      "outputs": [
        {
          "output_type": "execute_result",
          "data": {
            "text/plain": [
              "array([[ 46,  52],\n",
              "       [109, 124],\n",
              "       [172, 196],\n",
              "       [235, 268],\n",
              "       [298, 340]])"
            ]
          },
          "metadata": {},
          "execution_count": 110
        }
      ],
      "source": [
        "m1=np.arange(1,16).reshape(5,3)\n",
        "m2=np.arange(5,11).reshape(3,2)\n",
        "np.dot(m1,m2)"
      ]
    },
    {
      "cell_type": "markdown",
      "metadata": {
        "id": "mMMlRM12G_uf"
      },
      "source": [
        "#### 25. Given a 1D array, negate all elements which are between 3 and 8, in place. (★☆☆) \n",
        "(**hint**: >, <=)"
      ]
    },
    {
      "cell_type": "code",
      "execution_count": 111,
      "metadata": {
        "id": "XfSqyCsCG_ug",
        "colab": {
          "base_uri": "https://localhost:8080/"
        },
        "outputId": "6b00d6f1-2507-468a-cda6-517cce4c6997"
      },
      "outputs": [
        {
          "output_type": "execute_result",
          "data": {
            "text/plain": [
              "array([ 0,  1,  2,  3, -4, -5, -6, -7, -8,  9, 10, 11, 12, 13, 14])"
            ]
          },
          "metadata": {},
          "execution_count": 111
        }
      ],
      "source": [
        "arr=np.arange(0,15)\n",
        "arr[(arr>3) & (arr<9)]*=-1\n",
        "arr"
      ]
    },
    {
      "cell_type": "markdown",
      "metadata": {
        "id": "r7S0khFXG_uh"
      },
      "source": [
        "#### 26. What is the output of the following script? (★☆☆) \n",
        "(**hint**: np.sum)"
      ]
    },
    {
      "cell_type": "markdown",
      "metadata": {
        "id": "lhfdbTUiG_ui"
      },
      "source": [
        "```python\n",
        "# Author: Jake VanderPlas\n",
        "\n",
        "print(sum(range(5),-1))\n",
        "from numpy import *\n",
        "print(sum(range(5),-1))\n",
        "```"
      ]
    },
    {
      "cell_type": "code",
      "execution_count": 112,
      "metadata": {
        "id": "ZQf61_ViG_uj",
        "colab": {
          "base_uri": "https://localhost:8080/"
        },
        "outputId": "ea62ed26-f27a-486b-d418-2573bd7c9de7"
      },
      "outputs": [
        {
          "output_type": "stream",
          "name": "stdout",
          "text": [
            "10\n",
            "10\n"
          ]
        }
      ],
      "source": [
        "print(sum(range(5),-1))\n",
        "from numpy import *\n",
        "print(sum(range(5),-1))"
      ]
    },
    {
      "cell_type": "markdown",
      "metadata": {
        "id": "DKS7yQ27G_uk"
      },
      "source": [
        "#### 27. Consider an integer vector Z, which of these expressions are legal? (★☆☆)"
      ]
    },
    {
      "cell_type": "markdown",
      "metadata": {
        "id": "tzwyGAdGG_um"
      },
      "source": [
        "```python\n",
        "Z**Z\n",
        "2 << Z >> 2\n",
        "Z <- Z\n",
        "1j*Z\n",
        "Z/1/1\n",
        "Z<Z>Z\n",
        "```"
      ]
    },
    {
      "cell_type": "code",
      "execution_count": 113,
      "metadata": {
        "id": "2EDNrnZ4G_un",
        "colab": {
          "base_uri": "https://localhost:8080/"
        },
        "outputId": "b1d48b82-db5f-4850-c07d-f4e9714c0712"
      },
      "outputs": [
        {
          "output_type": "stream",
          "name": "stdout",
          "text": [
            "1\n",
            "1\n",
            "False\n",
            "1j\n",
            "1.0\n",
            "False\n"
          ]
        }
      ],
      "source": [
        "Z=np.random.randint(0,10)\n",
        "print(Z**Z)   \n",
        "print(2 << Z >> 2)\n",
        "print(Z <- Z)\n",
        "print(1j*Z)\n",
        "print(Z/1/1)\n",
        "print(Z<Z>Z)"
      ]
    },
    {
      "cell_type": "markdown",
      "metadata": {
        "id": "m01M6wFsG_uo"
      },
      "source": [
        "#### 28. What are the result of the following expressions?"
      ]
    },
    {
      "cell_type": "markdown",
      "metadata": {
        "id": "v1JQ73qeG_uo"
      },
      "source": [
        "```python\n",
        "np.array(0) / np.array(0)\n",
        "np.array(0) // np.array(0)\n",
        "np.array([np.nan]).astype(int).astype(float)\n",
        "```"
      ]
    },
    {
      "cell_type": "code",
      "execution_count": 114,
      "metadata": {
        "id": "c2Lfi4LSG_up",
        "colab": {
          "base_uri": "https://localhost:8080/"
        },
        "outputId": "9dbc6120-3561-4f5e-d392-0a1baf844f04"
      },
      "outputs": [
        {
          "output_type": "stream",
          "name": "stdout",
          "text": [
            "nan\n",
            "0\n",
            "[-9.2234e+18]\n"
          ]
        }
      ],
      "source": [
        "print(np.array(0) / np.array(0))\n",
        "print(np.array(0) // np.array(0))\n",
        "print(np.array([np.nan]).astype(int).astype(float))"
      ]
    },
    {
      "cell_type": "markdown",
      "metadata": {
        "id": "0_I8n5KhG_up"
      },
      "source": [
        "#### 29. How to round away from zero a float array ? (★☆☆) \n",
        "(**hint**: np.uniform, np.copysign, np.ceil, np.abs)"
      ]
    },
    {
      "cell_type": "code",
      "execution_count": 115,
      "metadata": {
        "id": "3f0y-GYeG_uq",
        "colab": {
          "base_uri": "https://localhost:8080/"
        },
        "outputId": "902efbb8-3268-4520-d545-d11847722d0a"
      },
      "outputs": [
        {
          "output_type": "stream",
          "name": "stdout",
          "text": [
            "[ -3.55  14.32 -10.14   4.8  -14.5 ]\n",
            "[ -2.6294  13.0392  -4.6219   2.3485 -11.8922]\n",
            "[ 3.55 14.32 10.14  4.8  14.5 ]\n",
            "[ -4.  14. -11.   4. -15.]\n",
            "[ -3.  15. -10.   5. -14.]\n",
            "[ -3.55  14.32 -10.14   4.8  -14.5 ]\n"
          ]
        }
      ],
      "source": [
        "n = np.array([-3.55,14.32,-10.14,4.8,-14.5])\n",
        "print(n)\n",
        "n1=np.random.uniform(n)\n",
        "print(n1)\n",
        "n2=np.abs(n)\n",
        "print(n2)\n",
        "n3=np.floor(n)\n",
        "print(n3)\n",
        "n4=np.ceil(n)\n",
        "print(n4)\n",
        "n5=np.copysign(n,n4)\n",
        "print(n5)"
      ]
    },
    {
      "cell_type": "markdown",
      "metadata": {
        "id": "eL3RZlPgG_uq"
      },
      "source": [
        "#### 30. How to find common values between two arrays? (★☆☆) \n",
        "(**hint**: np.intersect1d)"
      ]
    },
    {
      "cell_type": "code",
      "execution_count": 116,
      "metadata": {
        "id": "PSgZTrIiG_uq",
        "colab": {
          "base_uri": "https://localhost:8080/"
        },
        "outputId": "df34d531-1b1e-4e2c-ceec-9a47a9d942f6"
      },
      "outputs": [
        {
          "output_type": "execute_result",
          "data": {
            "text/plain": [
              "array([5, 6, 7, 8, 9])"
            ]
          },
          "metadata": {},
          "execution_count": 116
        }
      ],
      "source": [
        "m1=np.arange(0,10)\n",
        "m2=np.arange(5,15)\n",
        "np.intersect1d(m1,m2)"
      ]
    },
    {
      "cell_type": "markdown",
      "metadata": {
        "id": "a5-LIVR9G_ur"
      },
      "source": [
        "#### 31. How to ignore all numpy warnings (not recommended)? (★☆☆) \n",
        "(**hint**: np.seterr, np.errstate)"
      ]
    },
    {
      "cell_type": "code",
      "execution_count": 117,
      "metadata": {
        "id": "lWDay4nhG_ur",
        "colab": {
          "base_uri": "https://localhost:8080/"
        },
        "outputId": "9c853a38-0fd9-4e9c-fda2-366fa8ef7c68"
      },
      "outputs": [
        {
          "output_type": "execute_result",
          "data": {
            "text/plain": [
              "{'divide': 'ignore', 'invalid': 'ignore', 'over': 'ignore', 'under': 'ignore'}"
            ]
          },
          "metadata": {},
          "execution_count": 117
        }
      ],
      "source": [
        "np.errstate(divide='warn')\n",
        "np.seterr(all='ignore')"
      ]
    },
    {
      "cell_type": "markdown",
      "metadata": {
        "id": "zfN3m7M6G_us"
      },
      "source": [
        "#### 32. Is the following expressions true? (★☆☆) \n",
        "(**hint**: imaginary number)"
      ]
    },
    {
      "cell_type": "markdown",
      "metadata": {
        "id": "tXrMsOqsG_ut"
      },
      "source": [
        "```python\n",
        "np.sqrt(-1) == np.emath.sqrt(-1)\n",
        "```"
      ]
    },
    {
      "cell_type": "code",
      "execution_count": 118,
      "metadata": {
        "id": "jfvHmp6SG_uu",
        "colab": {
          "base_uri": "https://localhost:8080/"
        },
        "outputId": "e098e40d-276e-4d39-b7d4-dc4e3364138f"
      },
      "outputs": [
        {
          "output_type": "execute_result",
          "data": {
            "text/plain": [
              "False"
            ]
          },
          "metadata": {},
          "execution_count": 118
        }
      ],
      "source": [
        "# NO\n",
        "np.sqrt(-1) == np.emath.sqrt(-1)"
      ]
    },
    {
      "cell_type": "markdown",
      "metadata": {
        "id": "sa96Ay01G_uu"
      },
      "source": [
        "#### 33. How to get the dates of yesterday, today and tomorrow? (★☆☆) \n",
        "(**hint**: np.datetime64, np.timedelta64)"
      ]
    },
    {
      "cell_type": "code",
      "execution_count": 119,
      "metadata": {
        "collapsed": true,
        "id": "OqpDLl-7G_uv",
        "colab": {
          "base_uri": "https://localhost:8080/"
        },
        "outputId": "336d19aa-e2c5-4d70-c2e1-0a6bbd17ee78"
      },
      "outputs": [
        {
          "output_type": "stream",
          "name": "stdout",
          "text": [
            "Yesterday:  2022-07-18 07:10:49.801000\n",
            "Today:  2022-07-19 07:10:49.801048\n",
            "Tomorrow:  2022-07-20 07:10:49.801087\n"
          ]
        }
      ],
      "source": [
        "import datetime\n",
        "yest_date=datetime.datetime.today()-datetime.timedelta(1)\n",
        "curr_date=datetime.datetime.today()\n",
        "tomr_date=datetime.datetime.today()+datetime.timedelta(1)\n",
        "\n",
        "print(\"Yesterday: \",yest_date)\n",
        "print(\"Today: \",curr_date)\n",
        "print(\"Tomorrow: \",tomr_date)\n"
      ]
    },
    {
      "cell_type": "markdown",
      "metadata": {
        "id": "GkmiFa0qG_uv"
      },
      "source": [
        "#### 34. How to get all the dates corresponding to the month of July 2016? (★★☆) \n",
        "(**hint**: np.arange(dtype=datetime64\\['D'\\]))"
      ]
    },
    {
      "cell_type": "code",
      "execution_count": 120,
      "metadata": {
        "id": "qu9xjNcMG_uv",
        "colab": {
          "base_uri": "https://localhost:8080/"
        },
        "outputId": "c7b1a9ff-bb5b-4a53-a852-7b5b6bc8163f"
      },
      "outputs": [
        {
          "output_type": "execute_result",
          "data": {
            "text/plain": [
              "array(['2016-07-01', '2016-07-02', '2016-07-03', '2016-07-04',\n",
              "       '2016-07-05', '2016-07-06', '2016-07-07', '2016-07-08',\n",
              "       '2016-07-09', '2016-07-10', '2016-07-11', '2016-07-12',\n",
              "       '2016-07-13', '2016-07-14', '2016-07-15', '2016-07-16',\n",
              "       '2016-07-17', '2016-07-18', '2016-07-19', '2016-07-20',\n",
              "       '2016-07-21', '2016-07-22', '2016-07-23', '2016-07-24',\n",
              "       '2016-07-25', '2016-07-26', '2016-07-27', '2016-07-28',\n",
              "       '2016-07-29', '2016-07-30', '2016-07-31'], dtype='datetime64[D]')"
            ]
          },
          "metadata": {},
          "execution_count": 120
        }
      ],
      "source": [
        "(np.arange('2016-07','2016-08', dtype='datetime64[D]'))"
      ]
    },
    {
      "cell_type": "markdown",
      "metadata": {
        "id": "1m2yM_5-G_uw"
      },
      "source": [
        "#### 35. How to compute ((A+B)\\*(-A/2)) in place (without copy)? (★★☆) \n",
        "(**hint**: np.add(out=), np.negative(out=), np.multiply(out=), np.divide(out=))"
      ]
    },
    {
      "cell_type": "code",
      "execution_count": 121,
      "metadata": {
        "id": "wgmFuw2WG_uw",
        "colab": {
          "base_uri": "https://localhost:8080/"
        },
        "outputId": "8bd5cbf2-8e66-4ffa-bb04-c8da1514ac34"
      },
      "outputs": [
        {
          "output_type": "execute_result",
          "data": {
            "text/plain": [
              "array([ -3.5,  -9. , -16.5, -26. , -37.5])"
            ]
          },
          "metadata": {},
          "execution_count": 121
        }
      ],
      "source": [
        "A=np.arange(1,6)\n",
        "B=np.arange(6,11)\n",
        "# m=(A+B)*(-A/2)\n",
        "\n",
        "B=np.add(A,B)\n",
        "A=np.negative(A)\n",
        "A=np.divide(A,2)\n",
        "B=np.multiply(A,B)\n",
        "B"
      ]
    },
    {
      "cell_type": "markdown",
      "metadata": {
        "id": "mvMzXAsnG_ux"
      },
      "source": [
        "#### 36. Extract the integer part of a random array using 5 different methods (★★☆) \n",
        "(**hint**: %, np.floor, np.ceil, astype, np.trunc)"
      ]
    },
    {
      "cell_type": "code",
      "execution_count": 122,
      "metadata": {
        "id": "18ok4xBHG_ux",
        "colab": {
          "base_uri": "https://localhost:8080/"
        },
        "outputId": "88346b48-58f2-47a9-9da2-82b5a9e8bc6b"
      },
      "outputs": [
        {
          "output_type": "stream",
          "name": "stdout",
          "text": [
            "[6.]\n",
            "[6.]\n",
            "[7.]\n",
            "[6.]\n",
            "[6]\n"
          ]
        }
      ],
      "source": [
        "a=np.array([6.78])\n",
        "print(a-a%1) \n",
        "print(np.floor(a))\n",
        "print(np.ceil(a))\n",
        "print(np.trunc(a))\n",
        "print(a.astype(int))"
      ]
    },
    {
      "cell_type": "markdown",
      "metadata": {
        "id": "H1peGFpwG_ux"
      },
      "source": [
        "#### 37. Create a 5x5 matrix with row values ranging from 0 to 4 (★★☆) \n",
        "(**hint**: np.arange)"
      ]
    },
    {
      "cell_type": "code",
      "execution_count": 123,
      "metadata": {
        "id": "0L5IjJdzG_uz",
        "colab": {
          "base_uri": "https://localhost:8080/"
        },
        "outputId": "f0de7a05-7504-4f3a-9dca-619fdc4cc3c9"
      },
      "outputs": [
        {
          "output_type": "execute_result",
          "data": {
            "text/plain": [
              "array([[0., 1., 2., 3., 4.],\n",
              "       [0., 1., 2., 3., 4.],\n",
              "       [0., 1., 2., 3., 4.],\n",
              "       [0., 1., 2., 3., 4.],\n",
              "       [0., 1., 2., 3., 4.]])"
            ]
          },
          "metadata": {},
          "execution_count": 123
        }
      ],
      "source": [
        "a=np.zeros((5,5))\n",
        "a+=np.arange(5)\n",
        "a"
      ]
    },
    {
      "cell_type": "markdown",
      "metadata": {
        "id": "74iaUpIsG_uz"
      },
      "source": [
        "#### 38. Consider a generator function that generates 10 integers and use it to build an array (★☆☆) \n",
        "(**hint**: np.fromiter)"
      ]
    },
    {
      "cell_type": "code",
      "execution_count": 124,
      "metadata": {
        "id": "LBkn0winG_u0",
        "colab": {
          "base_uri": "https://localhost:8080/"
        },
        "outputId": "8fb143c0-125c-47c8-90e8-d59ef216cbb6"
      },
      "outputs": [
        {
          "output_type": "execute_result",
          "data": {
            "text/plain": [
              "array([0., 1., 2., 3., 4., 5., 6., 7., 8., 9.])"
            ]
          },
          "metadata": {},
          "execution_count": 124
        }
      ],
      "source": [
        "np.fromiter(np.arange(10),dtype=float)"
      ]
    },
    {
      "cell_type": "markdown",
      "metadata": {
        "id": "OiWbBmhRG_u1"
      },
      "source": [
        "#### 39. Create a vector of size 10 with values ranging from 0 to 1, both excluded (★★☆) \n",
        "(**hint**: np.linspace)"
      ]
    },
    {
      "cell_type": "code",
      "execution_count": 125,
      "metadata": {
        "id": "xucnAF8VG_u2",
        "colab": {
          "base_uri": "https://localhost:8080/"
        },
        "outputId": "3826fb97-4744-401b-804a-2245f14a7ca9"
      },
      "outputs": [
        {
          "output_type": "execute_result",
          "data": {
            "text/plain": [
              "array([0.0909, 0.1818, 0.2727, 0.3636, 0.4545, 0.5455, 0.6364, 0.7273,\n",
              "       0.8182, 0.9091])"
            ]
          },
          "metadata": {},
          "execution_count": 125
        }
      ],
      "source": [
        "n=np.linspace(0,1,11,endpoint=False)[1:]\n",
        "n"
      ]
    },
    {
      "cell_type": "markdown",
      "metadata": {
        "id": "KS-_YvCuG_u2"
      },
      "source": [
        "#### 40. Create a random vector of size 10 and sort it (★★☆) \n",
        "(**hint**: sort)"
      ]
    },
    {
      "cell_type": "code",
      "execution_count": 126,
      "metadata": {
        "id": "huJhYVZEG_u3",
        "colab": {
          "base_uri": "https://localhost:8080/"
        },
        "outputId": "eb4c9f84-bf59-4040-da4a-b564895cbd62"
      },
      "outputs": [
        {
          "output_type": "stream",
          "name": "stdout",
          "text": [
            "[0.1369 0.5995 0.928  0.1225 0.5155 0.4414 0.1282 0.5335 0.6176 0.8899]\n"
          ]
        },
        {
          "output_type": "execute_result",
          "data": {
            "text/plain": [
              "array([0.1225, 0.1282, 0.1369, 0.4414, 0.5155, 0.5335, 0.5995, 0.6176,\n",
              "       0.8899, 0.928 ])"
            ]
          },
          "metadata": {},
          "execution_count": 126
        }
      ],
      "source": [
        "a=np.random.random(10)\n",
        "print(a)\n",
        "np.sort(a)"
      ]
    },
    {
      "cell_type": "markdown",
      "metadata": {
        "id": "bVFsZj-lG_u3"
      },
      "source": [
        "#### 41. How to sum a small array faster than np.sum? (★★☆) \n",
        "(**hint**: np.add.reduce)"
      ]
    },
    {
      "cell_type": "code",
      "execution_count": 127,
      "metadata": {
        "id": "WAah8G3JG_u4",
        "colab": {
          "base_uri": "https://localhost:8080/"
        },
        "outputId": "6961563c-aa31-4644-9527-b560634a6ba1"
      },
      "outputs": [
        {
          "output_type": "stream",
          "name": "stdout",
          "text": [
            "[0 1 2 3 4 5 6 7 8 9]\n"
          ]
        },
        {
          "output_type": "execute_result",
          "data": {
            "text/plain": [
              "45"
            ]
          },
          "metadata": {},
          "execution_count": 127
        }
      ],
      "source": [
        "a=np.arange(10)\n",
        "print(a)\n",
        "np.add.reduce(a)"
      ]
    },
    {
      "cell_type": "markdown",
      "metadata": {
        "id": "lkeiMi2pG_u4"
      },
      "source": [
        "#### 42. Consider two random array A and B, check if they are equal (★★☆) \n",
        "(**hint**: np.allclose, np.array\\_equal)"
      ]
    },
    {
      "cell_type": "code",
      "execution_count": 128,
      "metadata": {
        "id": "AqfS10PMG_u4",
        "colab": {
          "base_uri": "https://localhost:8080/"
        },
        "outputId": "e8deadc8-a179-4409-ef31-d1aad56d1404"
      },
      "outputs": [
        {
          "output_type": "stream",
          "name": "stdout",
          "text": [
            "False\n",
            "False\n",
            "True\n",
            "True\n"
          ]
        }
      ],
      "source": [
        "m1=np.random.random(10)\n",
        "m2=np.random.random(10)\n",
        "print(np.array_equal(m1,m2))\n",
        "print(np.allclose(m1,m2))\n",
        "\n",
        "n1=np.arange(0,10)\n",
        "n2=np.arange(0,10)\n",
        "print(np.array_equal(n1,n2))\n",
        "print(np.allclose(n1,n2))"
      ]
    },
    {
      "cell_type": "markdown",
      "metadata": {
        "id": "x5I8fvzqG_u5"
      },
      "source": [
        "#### 43. Make an array immutable (read-only) (★★☆) \n",
        "(**hint**: flags.writeable)"
      ]
    },
    {
      "cell_type": "code",
      "execution_count": 129,
      "metadata": {
        "id": "TW9NcYwbG_u5"
      },
      "outputs": [],
      "source": [
        "ar=np.arange(10)\n",
        "ar.flags.writeable=False\n",
        "# ar[1]=1"
      ]
    },
    {
      "cell_type": "markdown",
      "metadata": {
        "id": "mtFsaLYRG_u5"
      },
      "source": [
        "#### 44. Consider a random 10x2 matrix representing cartesian coordinates, convert them to polar coordinates (★★☆) \n",
        "(**hint**: np.sqrt, np.arctan2)"
      ]
    },
    {
      "cell_type": "code",
      "execution_count": 130,
      "metadata": {
        "id": "Z6jS6lpvG_u6",
        "colab": {
          "base_uri": "https://localhost:8080/"
        },
        "outputId": "c880131a-ded4-4847-ebc8-6edefa0036fc"
      },
      "outputs": [
        {
          "output_type": "stream",
          "name": "stdout",
          "text": [
            "[[0.1501 0.1441]\n",
            " [0.7189 0.7913]\n",
            " [0.3821 0.5523]\n",
            " [0.5289 0.953 ]\n",
            " [0.8525 0.9171]\n",
            " [0.1559 0.6164]\n",
            " [0.9578 0.1971]\n",
            " [0.7581 0.2548]\n",
            " [0.2828 0.0126]\n",
            " [0.6758 0.224 ]]\n",
            "[0.7651 0.8333 0.9656 1.0641 0.8219 1.3231 0.203  0.3243 0.0445 0.3201]\n"
          ]
        }
      ],
      "source": [
        "n = np.random.random((10,2))\n",
        "print(n)\n",
        "x,y = n[:,0], n[:,1]\n",
        "a = np.sqrt(x**2+x**2)\n",
        "p_coord = np.arctan2(y,x)\n",
        "print(p_coord)"
      ]
    },
    {
      "cell_type": "markdown",
      "metadata": {
        "id": "vmYfjIT6G_u6"
      },
      "source": [
        "#### 45. Create random vector of size 10 and replace the maximum value by 0 (★★☆) \n",
        "(**hint**: argmax)"
      ]
    },
    {
      "cell_type": "code",
      "execution_count": 131,
      "metadata": {
        "id": "lxWkDPFHG_u7",
        "colab": {
          "base_uri": "https://localhost:8080/"
        },
        "outputId": "9d4007d2-b1dd-480f-db1d-3b249516d276"
      },
      "outputs": [
        {
          "output_type": "execute_result",
          "data": {
            "text/plain": [
              "array([0, 1, 2, 3, 4, 5, 6, 7, 8, 0])"
            ]
          },
          "metadata": {},
          "execution_count": 131
        }
      ],
      "source": [
        "n=np.arange(10)\n",
        "n[np.argmax(n)]=0\n",
        "n"
      ]
    },
    {
      "cell_type": "markdown",
      "metadata": {
        "id": "uU94EX3NG_u7"
      },
      "source": [
        "#### 46. Create a structured array with `x` and `y` coordinates covering the \\[0,1\\]x\\[0,1\\] area (★★☆) \n",
        "(**hint**: np.meshgrid)"
      ]
    },
    {
      "cell_type": "code",
      "execution_count": 132,
      "metadata": {
        "id": "eL8lxOrtG_u7",
        "colab": {
          "base_uri": "https://localhost:8080/"
        },
        "outputId": "58fa3d50-e5c3-4354-b56f-e651bf11755f"
      },
      "outputs": [
        {
          "output_type": "execute_result",
          "data": {
            "text/plain": [
              "array([[(0.    , 0.    ), (0.1111, 0.    ), (0.2222, 0.    ),\n",
              "        (0.3333, 0.    ), (0.4444, 0.    ), (0.5556, 0.    ),\n",
              "        (0.6667, 0.    ), (0.7778, 0.    ), (0.8889, 0.    ),\n",
              "        (1.    , 0.    )],\n",
              "       [(0.    , 0.1111), (0.1111, 0.1111), (0.2222, 0.1111),\n",
              "        (0.3333, 0.1111), (0.4444, 0.1111), (0.5556, 0.1111),\n",
              "        (0.6667, 0.1111), (0.7778, 0.1111), (0.8889, 0.1111),\n",
              "        (1.    , 0.1111)],\n",
              "       [(0.    , 0.2222), (0.1111, 0.2222), (0.2222, 0.2222),\n",
              "        (0.3333, 0.2222), (0.4444, 0.2222), (0.5556, 0.2222),\n",
              "        (0.6667, 0.2222), (0.7778, 0.2222), (0.8889, 0.2222),\n",
              "        (1.    , 0.2222)],\n",
              "       [(0.    , 0.3333), (0.1111, 0.3333), (0.2222, 0.3333),\n",
              "        (0.3333, 0.3333), (0.4444, 0.3333), (0.5556, 0.3333),\n",
              "        (0.6667, 0.3333), (0.7778, 0.3333), (0.8889, 0.3333),\n",
              "        (1.    , 0.3333)],\n",
              "       [(0.    , 0.4444), (0.1111, 0.4444), (0.2222, 0.4444),\n",
              "        (0.3333, 0.4444), (0.4444, 0.4444), (0.5556, 0.4444),\n",
              "        (0.6667, 0.4444), (0.7778, 0.4444), (0.8889, 0.4444),\n",
              "        (1.    , 0.4444)],\n",
              "       [(0.    , 0.5556), (0.1111, 0.5556), (0.2222, 0.5556),\n",
              "        (0.3333, 0.5556), (0.4444, 0.5556), (0.5556, 0.5556),\n",
              "        (0.6667, 0.5556), (0.7778, 0.5556), (0.8889, 0.5556),\n",
              "        (1.    , 0.5556)],\n",
              "       [(0.    , 0.6667), (0.1111, 0.6667), (0.2222, 0.6667),\n",
              "        (0.3333, 0.6667), (0.4444, 0.6667), (0.5556, 0.6667),\n",
              "        (0.6667, 0.6667), (0.7778, 0.6667), (0.8889, 0.6667),\n",
              "        (1.    , 0.6667)],\n",
              "       [(0.    , 0.7778), (0.1111, 0.7778), (0.2222, 0.7778),\n",
              "        (0.3333, 0.7778), (0.4444, 0.7778), (0.5556, 0.7778),\n",
              "        (0.6667, 0.7778), (0.7778, 0.7778), (0.8889, 0.7778),\n",
              "        (1.    , 0.7778)],\n",
              "       [(0.    , 0.8889), (0.1111, 0.8889), (0.2222, 0.8889),\n",
              "        (0.3333, 0.8889), (0.4444, 0.8889), (0.5556, 0.8889),\n",
              "        (0.6667, 0.8889), (0.7778, 0.8889), (0.8889, 0.8889),\n",
              "        (1.    , 0.8889)],\n",
              "       [(0.    , 1.    ), (0.1111, 1.    ), (0.2222, 1.    ),\n",
              "        (0.3333, 1.    ), (0.4444, 1.    ), (0.5556, 1.    ),\n",
              "        (0.6667, 1.    ), (0.7778, 1.    ), (0.8889, 1.    ),\n",
              "        (1.    , 1.    )]], dtype=[('x', '<f8'), ('y', '<f8')])"
            ]
          },
          "metadata": {},
          "execution_count": 132
        }
      ],
      "source": [
        "Z = np.zeros((10,10), [('x',float),('y',float)])\n",
        "Z['x'], Z['y'] = np.meshgrid(np.linspace(0,1,10),\n",
        "                             np.linspace(0,1,10))\n",
        "Z"
      ]
    },
    {
      "cell_type": "markdown",
      "metadata": {
        "id": "dN1tSZ2KG_u8"
      },
      "source": [
        "####  47. Given two arrays, X and Y, construct the Cauchy matrix C (Cij =1/(xi - yj)) \n",
        "(**hint**: np.subtract.outer)"
      ]
    },
    {
      "cell_type": "code",
      "execution_count": 133,
      "metadata": {
        "id": "VnFMt9kyG_u8",
        "colab": {
          "base_uri": "https://localhost:8080/"
        },
        "outputId": "7b430085-7662-401f-8561-a73211d8f4fa"
      },
      "outputs": [
        {
          "output_type": "execute_result",
          "data": {
            "text/plain": [
              "array([[-0.25  , -0.2   , -0.1667, -0.1429, -0.125 ],\n",
              "       [-0.3333, -0.25  , -0.2   , -0.1667, -0.1429],\n",
              "       [-0.5   , -0.3333, -0.25  , -0.2   , -0.1667],\n",
              "       [-1.    , -0.5   , -0.3333, -0.25  , -0.2   ]])"
            ]
          },
          "metadata": {},
          "execution_count": 133
        }
      ],
      "source": [
        "x=np.arange(1,5)\n",
        "y=np.arange(5,10)\n",
        "1/np.subtract.outer(x,y)"
      ]
    },
    {
      "cell_type": "markdown",
      "metadata": {
        "id": "POtJ07fyG_u8"
      },
      "source": [
        "#### 48. Print the minimum and maximum representable value for each numpy scalar type (★★☆) \n",
        "(**hint**: np.iinfo, np.finfo, eps)"
      ]
    },
    {
      "cell_type": "code",
      "execution_count": 134,
      "metadata": {
        "id": "JOV_sG_wG_u9",
        "colab": {
          "base_uri": "https://localhost:8080/"
        },
        "outputId": "729295b4-a926-4aa0-994b-9d313ffe1360"
      },
      "outputs": [
        {
          "output_type": "stream",
          "name": "stdout",
          "text": [
            "-128\n",
            "127\n",
            "-2147483648\n",
            "2147483647\n",
            "-9223372036854775808\n",
            "9223372036854775807\n",
            "-3.4028235e+38\n",
            "3.4028235e+38\n",
            "1.1920929e-07\n",
            "-1.7976931348623157e+308\n",
            "1.7976931348623157e+308\n",
            "2.220446049250313e-16\n"
          ]
        }
      ],
      "source": [
        "# Range of all datatypes\n",
        "for dtype in [np.int8, np.int32, np.int64]:\n",
        "   print(np.iinfo(dtype).min)\n",
        "   print(np.iinfo(dtype).max)\n",
        "for dtype in [np.float32, np.float64]:\n",
        "   print(np.finfo(dtype).min)\n",
        "   print(np.finfo(dtype).max)\n",
        "   print(np.finfo(dtype).eps)"
      ]
    },
    {
      "cell_type": "markdown",
      "metadata": {
        "id": "3nPH_a-QG_u9"
      },
      "source": [
        "#### 49. How to print all the values of an array? (★★☆) \n",
        "(**hint**: np.set\\_printoptions)"
      ]
    },
    {
      "cell_type": "code",
      "execution_count": 135,
      "metadata": {
        "id": "aTaFG8YlG_u-",
        "colab": {
          "base_uri": "https://localhost:8080/"
        },
        "outputId": "f7c9071d-53db-489a-9b08-a59ddda9584c"
      },
      "outputs": [
        {
          "output_type": "stream",
          "name": "stdout",
          "text": [
            "[      1.2324       3.3443       4.     3434343.          34.4343]\n"
          ]
        }
      ],
      "source": [
        "# its written so as not to get the scientific notations in the numeric values\n",
        "n=np.array([1.232434,3.34434324,4,3434343,34.4343])\n",
        "np.set_printoptions(precision=4,suppress=True)\n",
        "print(n)"
      ]
    },
    {
      "cell_type": "markdown",
      "metadata": {
        "id": "1osmA67rG_u-"
      },
      "source": [
        "#### 50. How to find the closest value (to a given scalar) in a vector? (★★☆) \n",
        "(**hint**: argmin)"
      ]
    },
    {
      "cell_type": "code",
      "execution_count": 136,
      "metadata": {
        "id": "-_mNhM8iG_u_",
        "colab": {
          "base_uri": "https://localhost:8080/"
        },
        "outputId": "d68d7a88-fbd6-4c68-ac0e-ebd2e1363ebc"
      },
      "outputs": [
        {
          "output_type": "stream",
          "name": "stdout",
          "text": [
            "19\n"
          ]
        }
      ],
      "source": [
        "n = np.arange(100)\n",
        "m = np.random.uniform(0,100)\n",
        "ind = (np.abs(n-m)).argmin()\n",
        "print(n[ind])"
      ]
    },
    {
      "cell_type": "markdown",
      "metadata": {
        "id": "QxSo66e4G_u_"
      },
      "source": [
        "#### 51. Create a structured array representing a position (x,y) and a color (r,g,b) (★★☆) \n",
        "(**hint**: dtype)"
      ]
    },
    {
      "cell_type": "code",
      "execution_count": 137,
      "metadata": {
        "id": "pIdMkkDoG_u_",
        "colab": {
          "base_uri": "https://localhost:8080/"
        },
        "outputId": "cba403b2-f0f5-4278-da87-d29bdf4f51a7"
      },
      "outputs": [
        {
          "output_type": "stream",
          "name": "stderr",
          "text": [
            "/usr/local/lib/python3.7/dist-packages/ipykernel_launcher.py:5: FutureWarning: Passing (type, 1) or '1type' as a synonym of type is deprecated; in a future version of numpy, it will be understood as (type, (1,)) / '(1,)type'.\n",
            "  \"\"\"\n"
          ]
        },
        {
          "output_type": "execute_result",
          "data": {
            "text/plain": [
              "array([((0., 0.), (0., 0., 0.)), ((0., 0.), (0., 0., 0.)),\n",
              "       ((0., 0.), (0., 0., 0.)), ((0., 0.), (0., 0., 0.)),\n",
              "       ((0., 0.), (0., 0., 0.)), ((0., 0.), (0., 0., 0.)),\n",
              "       ((0., 0.), (0., 0., 0.)), ((0., 0.), (0., 0., 0.)),\n",
              "       ((0., 0.), (0., 0., 0.)), ((0., 0.), (0., 0., 0.))],\n",
              "      dtype=[('position', [('x', '<f8'), ('y', '<f8')]), ('color', [('r', '<f8'), ('g', '<f8'), ('b', '<f8')])])"
            ]
          },
          "metadata": {},
          "execution_count": 137
        }
      ],
      "source": [
        "n=np.zeros(10,[('position', [('x', float, 1),\n",
        "                            ('y', float, 1)]),\n",
        "                  ('color', [('r', float, 1),\n",
        "                            ('g', float, 1),\n",
        "                            ('b', float, 1)])])\n",
        "n"
      ]
    },
    {
      "cell_type": "markdown",
      "metadata": {
        "id": "INOl9WfrG_vA"
      },
      "source": [
        "#### 52. Consider a random vector with shape (100,2) representing coordinates, find point by point distances (★★☆) \n",
        "(**hint**: np.atleast\\_2d, T, np.sqrt)"
      ]
    },
    {
      "cell_type": "code",
      "execution_count": 138,
      "metadata": {
        "id": "As5xZRX7G_vA",
        "colab": {
          "base_uri": "https://localhost:8080/"
        },
        "outputId": "e1af14d1-7d73-41b5-9abd-d37c5296fb90"
      },
      "outputs": [
        {
          "output_type": "execute_result",
          "data": {
            "text/plain": [
              "array([[0.    , 0.3118, 0.1466, 0.3548, 0.6205, 0.8745, 0.1371, 1.0639,\n",
              "        0.7987, 0.0703],\n",
              "       [0.3118, 0.    , 0.4208, 0.4044, 0.725 , 0.6095, 0.1824, 0.8968,\n",
              "        0.5449, 0.3268],\n",
              "       [0.1466, 0.4208, 0.    , 0.4924, 0.7299, 1.0098, 0.2699, 1.2106,\n",
              "        0.9363, 0.0963],\n",
              "       [0.3548, 0.4044, 0.4924, 0.    , 0.3206, 0.6923, 0.3097, 0.7545,\n",
              "        0.6082, 0.4243],\n",
              "       [0.6205, 0.725 , 0.7299, 0.3206, 0.    , 0.8876, 0.6164, 0.7771,\n",
              "        0.8074, 0.6893],\n",
              "       [0.8745, 0.6095, 1.0098, 0.6923, 0.8876, 0.    , 0.7407, 0.4476,\n",
              "        0.0842, 0.9137],\n",
              "       [0.1371, 0.1824, 0.2699, 0.3097, 0.6164, 0.7407, 0.    , 0.9559,\n",
              "        0.6664, 0.1746],\n",
              "       [1.0639, 0.8968, 1.2106, 0.7545, 0.7771, 0.4476, 0.9559, 0.    ,\n",
              "        0.4377, 1.1231],\n",
              "       [0.7987, 0.5449, 0.9363, 0.6082, 0.8074, 0.0842, 0.6664, 0.4377,\n",
              "        0.    , 0.8405],\n",
              "       [0.0703, 0.3268, 0.0963, 0.4243, 0.6893, 0.9137, 0.1746, 1.1231,\n",
              "        0.8405, 0.    ]])"
            ]
          },
          "metadata": {},
          "execution_count": 138
        }
      ],
      "source": [
        "n=np.random.random((10,2))\n",
        "x,y=np.atleast_2d(n[:,0]), np.atleast_2d(n[:,1])\n",
        "dist=np.sqrt((x-x.T)**2+(y-y.T)**2)\n",
        "dist"
      ]
    },
    {
      "cell_type": "markdown",
      "metadata": {
        "id": "5nQMXwBRG_vA"
      },
      "source": [
        "#### 53. How to convert a float (32 bits) array into an integer (32 bits) in place? \n",
        "(**hint**: astype(copy=False))"
      ]
    },
    {
      "cell_type": "code",
      "execution_count": 139,
      "metadata": {
        "id": "C5k9jNiXG_vB",
        "colab": {
          "base_uri": "https://localhost:8080/"
        },
        "outputId": "1245e7cf-70ac-49ec-f49d-1e2be387c82d"
      },
      "outputs": [
        {
          "output_type": "stream",
          "name": "stdout",
          "text": [
            "[1. 2. 3. 4. 5.]\n"
          ]
        },
        {
          "output_type": "execute_result",
          "data": {
            "text/plain": [
              "array([1, 2, 3, 4, 5], dtype=int32)"
            ]
          },
          "metadata": {},
          "execution_count": 139
        }
      ],
      "source": [
        "a=np.array([1,2,3,4,5],dtype=float)\n",
        "print(a)\n",
        "a=a.astype(np.int32,copy=False)\n",
        "a"
      ]
    },
    {
      "cell_type": "markdown",
      "metadata": {
        "id": "S9DDVYhWG_vB"
      },
      "source": [
        "#### 54. How to read the following file? (★★☆) \n",
        "(**hint**: np.genfromtxt)"
      ]
    },
    {
      "cell_type": "markdown",
      "metadata": {
        "id": "zbkzZgH_G_vC"
      },
      "source": [
        "```\n",
        "1, 2, 3, 4, 5\n",
        "6,  ,  , 7, 8\n",
        " ,  , 9,10,11\n",
        "```"
      ]
    },
    {
      "cell_type": "code",
      "execution_count": 141,
      "metadata": {
        "id": "i-4eX7qUG_vD",
        "colab": {
          "base_uri": "https://localhost:8080/",
          "height": 311
        },
        "outputId": "5f5694f6-6407-412f-9ba3-11923675b777"
      },
      "outputs": [
        {
          "output_type": "error",
          "ename": "OSError",
          "evalue": "ignored",
          "traceback": [
            "\u001b[0;31m---------------------------------------------------------------------------\u001b[0m",
            "\u001b[0;31mOSError\u001b[0m                                   Traceback (most recent call last)",
            "\u001b[0;32m<ipython-input-141-97f7d398bf43>\u001b[0m in \u001b[0;36m<module>\u001b[0;34m()\u001b[0m\n\u001b[0;32m----> 1\u001b[0;31m \u001b[0mnp\u001b[0m\u001b[0;34m.\u001b[0m\u001b[0mgenfromtxt\u001b[0m\u001b[0;34m(\u001b[0m\u001b[0;34m'text.csv'\u001b[0m\u001b[0;34m,\u001b[0m\u001b[0mdelimiter\u001b[0m\u001b[0;34m=\u001b[0m\u001b[0;34m','\u001b[0m\u001b[0;34m,\u001b[0m\u001b[0mmissing_values\u001b[0m\u001b[0;34m=\u001b[0m\u001b[0;32mNone\u001b[0m\u001b[0;34m)\u001b[0m\u001b[0;34m\u001b[0m\u001b[0;34m\u001b[0m\u001b[0m\n\u001b[0m",
            "\u001b[0;32m/usr/local/lib/python3.7/dist-packages/numpy/lib/npyio.py\u001b[0m in \u001b[0;36mgenfromtxt\u001b[0;34m(fname, dtype, comments, delimiter, skip_header, skip_footer, converters, missing_values, filling_values, usecols, names, excludelist, deletechars, replace_space, autostrip, case_sensitive, defaultfmt, unpack, usemask, loose, invalid_raise, max_rows, encoding, like)\u001b[0m\n\u001b[1;32m   1791\u001b[0m             \u001b[0mfname\u001b[0m \u001b[0;34m=\u001b[0m \u001b[0mos_fspath\u001b[0m\u001b[0;34m(\u001b[0m\u001b[0mfname\u001b[0m\u001b[0;34m)\u001b[0m\u001b[0;34m\u001b[0m\u001b[0;34m\u001b[0m\u001b[0m\n\u001b[1;32m   1792\u001b[0m         \u001b[0;32mif\u001b[0m \u001b[0misinstance\u001b[0m\u001b[0;34m(\u001b[0m\u001b[0mfname\u001b[0m\u001b[0;34m,\u001b[0m \u001b[0mstr\u001b[0m\u001b[0;34m)\u001b[0m\u001b[0;34m:\u001b[0m\u001b[0;34m\u001b[0m\u001b[0;34m\u001b[0m\u001b[0m\n\u001b[0;32m-> 1793\u001b[0;31m             \u001b[0mfid\u001b[0m \u001b[0;34m=\u001b[0m \u001b[0mnp\u001b[0m\u001b[0;34m.\u001b[0m\u001b[0mlib\u001b[0m\u001b[0;34m.\u001b[0m\u001b[0m_datasource\u001b[0m\u001b[0;34m.\u001b[0m\u001b[0mopen\u001b[0m\u001b[0;34m(\u001b[0m\u001b[0mfname\u001b[0m\u001b[0;34m,\u001b[0m \u001b[0;34m'rt'\u001b[0m\u001b[0;34m,\u001b[0m \u001b[0mencoding\u001b[0m\u001b[0;34m=\u001b[0m\u001b[0mencoding\u001b[0m\u001b[0;34m)\u001b[0m\u001b[0;34m\u001b[0m\u001b[0;34m\u001b[0m\u001b[0m\n\u001b[0m\u001b[1;32m   1794\u001b[0m             \u001b[0mfid_ctx\u001b[0m \u001b[0;34m=\u001b[0m \u001b[0mcontextlib\u001b[0m\u001b[0;34m.\u001b[0m\u001b[0mclosing\u001b[0m\u001b[0;34m(\u001b[0m\u001b[0mfid\u001b[0m\u001b[0;34m)\u001b[0m\u001b[0;34m\u001b[0m\u001b[0;34m\u001b[0m\u001b[0m\n\u001b[1;32m   1795\u001b[0m         \u001b[0;32melse\u001b[0m\u001b[0;34m:\u001b[0m\u001b[0;34m\u001b[0m\u001b[0;34m\u001b[0m\u001b[0m\n",
            "\u001b[0;32m/usr/local/lib/python3.7/dist-packages/numpy/lib/_datasource.py\u001b[0m in \u001b[0;36mopen\u001b[0;34m(path, mode, destpath, encoding, newline)\u001b[0m\n\u001b[1;32m    191\u001b[0m \u001b[0;34m\u001b[0m\u001b[0m\n\u001b[1;32m    192\u001b[0m     \u001b[0mds\u001b[0m \u001b[0;34m=\u001b[0m \u001b[0mDataSource\u001b[0m\u001b[0;34m(\u001b[0m\u001b[0mdestpath\u001b[0m\u001b[0;34m)\u001b[0m\u001b[0;34m\u001b[0m\u001b[0;34m\u001b[0m\u001b[0m\n\u001b[0;32m--> 193\u001b[0;31m     \u001b[0;32mreturn\u001b[0m \u001b[0mds\u001b[0m\u001b[0;34m.\u001b[0m\u001b[0mopen\u001b[0m\u001b[0;34m(\u001b[0m\u001b[0mpath\u001b[0m\u001b[0;34m,\u001b[0m \u001b[0mmode\u001b[0m\u001b[0;34m,\u001b[0m \u001b[0mencoding\u001b[0m\u001b[0;34m=\u001b[0m\u001b[0mencoding\u001b[0m\u001b[0;34m,\u001b[0m \u001b[0mnewline\u001b[0m\u001b[0;34m=\u001b[0m\u001b[0mnewline\u001b[0m\u001b[0;34m)\u001b[0m\u001b[0;34m\u001b[0m\u001b[0;34m\u001b[0m\u001b[0m\n\u001b[0m\u001b[1;32m    194\u001b[0m \u001b[0;34m\u001b[0m\u001b[0m\n\u001b[1;32m    195\u001b[0m \u001b[0;34m\u001b[0m\u001b[0m\n",
            "\u001b[0;32m/usr/local/lib/python3.7/dist-packages/numpy/lib/_datasource.py\u001b[0m in \u001b[0;36mopen\u001b[0;34m(self, path, mode, encoding, newline)\u001b[0m\n\u001b[1;32m    531\u001b[0m                                       encoding=encoding, newline=newline)\n\u001b[1;32m    532\u001b[0m         \u001b[0;32melse\u001b[0m\u001b[0;34m:\u001b[0m\u001b[0;34m\u001b[0m\u001b[0;34m\u001b[0m\u001b[0m\n\u001b[0;32m--> 533\u001b[0;31m             \u001b[0;32mraise\u001b[0m \u001b[0mIOError\u001b[0m\u001b[0;34m(\u001b[0m\u001b[0;34m\"%s not found.\"\u001b[0m \u001b[0;34m%\u001b[0m \u001b[0mpath\u001b[0m\u001b[0;34m)\u001b[0m\u001b[0;34m\u001b[0m\u001b[0;34m\u001b[0m\u001b[0m\n\u001b[0m\u001b[1;32m    534\u001b[0m \u001b[0;34m\u001b[0m\u001b[0m\n\u001b[1;32m    535\u001b[0m \u001b[0;34m\u001b[0m\u001b[0m\n",
            "\u001b[0;31mOSError\u001b[0m: text.csv not found."
          ]
        }
      ],
      "source": [
        "np.genfromtxt('text.csv',delimiter=',',missing_values=None)"
      ]
    },
    {
      "cell_type": "markdown",
      "metadata": {
        "id": "D_9I70kmG_vE"
      },
      "source": [
        "#### 55. What is the equivalent of enumerate for numpy arrays? (★★☆) \n",
        "(**hint**: np.ndenumerate, np.ndindex)"
      ]
    },
    {
      "cell_type": "code",
      "execution_count": 142,
      "metadata": {
        "id": "1elGR1LJG_vF",
        "colab": {
          "base_uri": "https://localhost:8080/"
        },
        "outputId": "1c037e9f-7be8-4e43-d013-d0cd4e852661"
      },
      "outputs": [
        {
          "output_type": "stream",
          "name": "stdout",
          "text": [
            "(0,) 1\n",
            "(1,) 2\n",
            "(2,) 3\n",
            "(3,) 4\n",
            "(4,) 5\n",
            "(5,) 6\n",
            "(6,) 7\n",
            "\n",
            "\n",
            "(0,) 1\n",
            "(1,) 2\n",
            "(2,) 3\n",
            "(3,) 4\n",
            "(4,) 5\n",
            "(5,) 6\n",
            "(6,) 7\n"
          ]
        }
      ],
      "source": [
        "n=np.array([1,2,3,4,5,6,7])\n",
        "\n",
        "for ind,x in np.ndenumerate(n):\n",
        "  print(ind,x)\n",
        "print(\"\\n\")\n",
        "for a in np.ndindex(n.shape):\n",
        "    print(a,n[a])"
      ]
    },
    {
      "cell_type": "markdown",
      "metadata": {
        "id": "Q__dU0PfG_vF"
      },
      "source": [
        "#### 56. Generate a generic 2D Gaussian-like array (★★☆) \n",
        "(**hint**: np.meshgrid, np.exp)"
      ]
    },
    {
      "cell_type": "code",
      "execution_count": 143,
      "metadata": {
        "id": "NJdiqW5HG_vF",
        "colab": {
          "base_uri": "https://localhost:8080/"
        },
        "outputId": "aa5651fa-4b79-4693-87f4-be3cad2a5046"
      },
      "outputs": [
        {
          "output_type": "execute_result",
          "data": {
            "text/plain": [
              "array([[1.4142, 1.2669, 1.144 , 1.0541, 1.0062, 1.0062, 1.0541, 1.144 ,\n",
              "        1.2669, 1.4142],\n",
              "       [1.2669, 1.0999, 0.9558, 0.8462, 0.7857, 0.7857, 0.8462, 0.9558,\n",
              "        1.0999, 1.2669],\n",
              "       [1.144 , 0.9558, 0.7857, 0.6479, 0.5666, 0.5666, 0.6479, 0.7857,\n",
              "        0.9558, 1.144 ],\n",
              "       [1.0541, 0.8462, 0.6479, 0.4714, 0.3514, 0.3514, 0.4714, 0.6479,\n",
              "        0.8462, 1.0541],\n",
              "       [1.0062, 0.7857, 0.5666, 0.3514, 0.1571, 0.1571, 0.3514, 0.5666,\n",
              "        0.7857, 1.0062],\n",
              "       [1.0062, 0.7857, 0.5666, 0.3514, 0.1571, 0.1571, 0.3514, 0.5666,\n",
              "        0.7857, 1.0062],\n",
              "       [1.0541, 0.8462, 0.6479, 0.4714, 0.3514, 0.3514, 0.4714, 0.6479,\n",
              "        0.8462, 1.0541],\n",
              "       [1.144 , 0.9558, 0.7857, 0.6479, 0.5666, 0.5666, 0.6479, 0.7857,\n",
              "        0.9558, 1.144 ],\n",
              "       [1.2669, 1.0999, 0.9558, 0.8462, 0.7857, 0.7857, 0.8462, 0.9558,\n",
              "        1.0999, 1.2669],\n",
              "       [1.4142, 1.2669, 1.144 , 1.0541, 1.0062, 1.0062, 1.0541, 1.144 ,\n",
              "        1.2669, 1.4142]])"
            ]
          },
          "metadata": {},
          "execution_count": 143
        }
      ],
      "source": [
        "X, Y = np.meshgrid(np.linspace(-1,1,10), np.linspace(-1,1,10))\n",
        "D = np.sqrt(X*X+Y*Y)\n",
        "D"
      ]
    },
    {
      "cell_type": "code",
      "source": [
        "sigma, mu = 1.0, 0.0\n",
        "G = np.exp(-((D-mu)**2 / ( 2.0 * sigma**2 )))\n",
        "print(G)"
      ],
      "metadata": {
        "id": "5T0nkqkYv-bz",
        "colab": {
          "base_uri": "https://localhost:8080/"
        },
        "outputId": "28745728-6f1d-449a-dd2a-d31ff05eb3dd"
      },
      "execution_count": 144,
      "outputs": [
        {
          "output_type": "stream",
          "name": "stdout",
          "text": [
            "[[0.3679 0.4482 0.5198 0.5738 0.6028 0.6028 0.5738 0.5198 0.4482 0.3679]\n",
            " [0.4482 0.5461 0.6333 0.6991 0.7344 0.7344 0.6991 0.6333 0.5461 0.4482]\n",
            " [0.5198 0.6333 0.7344 0.8107 0.8517 0.8517 0.8107 0.7344 0.6333 0.5198]\n",
            " [0.5738 0.6991 0.8107 0.8948 0.9401 0.9401 0.8948 0.8107 0.6991 0.5738]\n",
            " [0.6028 0.7344 0.8517 0.9401 0.9877 0.9877 0.9401 0.8517 0.7344 0.6028]\n",
            " [0.6028 0.7344 0.8517 0.9401 0.9877 0.9877 0.9401 0.8517 0.7344 0.6028]\n",
            " [0.5738 0.6991 0.8107 0.8948 0.9401 0.9401 0.8948 0.8107 0.6991 0.5738]\n",
            " [0.5198 0.6333 0.7344 0.8107 0.8517 0.8517 0.8107 0.7344 0.6333 0.5198]\n",
            " [0.4482 0.5461 0.6333 0.6991 0.7344 0.7344 0.6991 0.6333 0.5461 0.4482]\n",
            " [0.3679 0.4482 0.5198 0.5738 0.6028 0.6028 0.5738 0.5198 0.4482 0.3679]]\n"
          ]
        }
      ]
    },
    {
      "cell_type": "markdown",
      "metadata": {
        "id": "37hgv19lG_vG"
      },
      "source": [
        "\n",
        "\n",
        "#### 57. How to randomly place p elements in a 2D array? (★★☆) \n",
        "(**hint**: np.put, np.random.choice)"
      ]
    },
    {
      "cell_type": "code",
      "execution_count": 145,
      "metadata": {
        "id": "UQxGhguoG_vG",
        "colab": {
          "base_uri": "https://localhost:8080/"
        },
        "outputId": "64c52c86-c372-4778-d1e8-98359c581100"
      },
      "outputs": [
        {
          "output_type": "stream",
          "name": "stdout",
          "text": [
            "[[0. 0. 1. 0. 0.]\n",
            " [0. 0. 0. 0. 0.]\n",
            " [0. 0. 1. 0. 0.]\n",
            " [0. 0. 0. 0. 1.]\n",
            " [0. 0. 0. 0. 0.]]\n"
          ]
        }
      ],
      "source": [
        "n=5\n",
        "p=3\n",
        "m=np.zeros((n,n))\n",
        "np.put(m, np.random.choice(range(n*n), p, replace=False),1)\n",
        "print(m)"
      ]
    },
    {
      "cell_type": "markdown",
      "metadata": {
        "id": "KZVIi0WdG_vG"
      },
      "source": [
        "#### 58. Subtract the mean of each row of a matrix (★★☆) \n",
        "(**hint**: mean(axis=,keepdims=))"
      ]
    },
    {
      "cell_type": "code",
      "execution_count": 146,
      "metadata": {
        "id": "oTx3SPyTG_vH",
        "colab": {
          "base_uri": "https://localhost:8080/"
        },
        "outputId": "1ceeee7f-6ffa-4db7-c24c-2ae50ac01aab"
      },
      "outputs": [
        {
          "output_type": "stream",
          "name": "stdout",
          "text": [
            "[[ 0  1  2  3  4  5  6]\n",
            " [ 7  8  9 10 11 12 13]\n",
            " [14 15 16 17 18 19 20]]\n"
          ]
        },
        {
          "output_type": "execute_result",
          "data": {
            "text/plain": [
              "array([[-3., -2., -1.,  0.,  1.,  2.,  3.],\n",
              "       [-3., -2., -1.,  0.,  1.,  2.,  3.],\n",
              "       [-3., -2., -1.,  0.,  1.,  2.,  3.]])"
            ]
          },
          "metadata": {},
          "execution_count": 146
        }
      ],
      "source": [
        "n=np.arange(21).reshape(3,7)\n",
        "print(n)\n",
        "m=n-n.mean(axis=1,keepdims=True)\n",
        "m"
      ]
    },
    {
      "cell_type": "markdown",
      "metadata": {
        "id": "H1uwjO-LG_vH"
      },
      "source": [
        "#### 59. How to sort an array by the nth column? (★★☆) \n",
        "(**hint**: argsort)"
      ]
    },
    {
      "cell_type": "code",
      "execution_count": 147,
      "metadata": {
        "id": "-PkRyOtyG_vH",
        "colab": {
          "base_uri": "https://localhost:8080/"
        },
        "outputId": "549871fc-6563-49e7-ce4c-0d8af73808f7"
      },
      "outputs": [
        {
          "output_type": "stream",
          "name": "stdout",
          "text": [
            "[[20 14 30 66]\n",
            " [ 7  9 12 11]\n",
            " [ 3 52  2  4]\n",
            " [ 8 10 13 70]]\n",
            "[[ 7  9 12 11]\n",
            " [ 8 10 13 70]\n",
            " [20 14 30 66]\n",
            " [ 3 52  2  4]]\n"
          ]
        }
      ],
      "source": [
        "n=np.array([20,14,30,66,7,9,12,11,3,52,2,4,8,10,13,70]).reshape(4,4)\n",
        "print(n)\n",
        "print(n[n[:,1].argsort()])"
      ]
    },
    {
      "cell_type": "markdown",
      "metadata": {
        "id": "8LmiKOC9G_vI"
      },
      "source": [
        "#### 60. How to tell if a given 2D array has null columns? (★★☆) \n",
        "(**hint**: any, ~)"
      ]
    },
    {
      "cell_type": "code",
      "execution_count": 148,
      "metadata": {
        "id": "kJn-2KtRG_vI",
        "colab": {
          "base_uri": "https://localhost:8080/"
        },
        "outputId": "defe7936-8fae-4de3-b8b8-6e9c33b035f7"
      },
      "outputs": [
        {
          "output_type": "stream",
          "name": "stdout",
          "text": [
            "False\n"
          ]
        }
      ],
      "source": [
        "n=np.arange(16).reshape(4,4)\n",
        "print((~n.any(axis=0)).any())\n"
      ]
    },
    {
      "cell_type": "markdown",
      "metadata": {
        "id": "oPX5ko80G_vI"
      },
      "source": [
        "#### 61. Find the nearest value from a given value in an array (★★☆) \n",
        "(**hint**: np.abs, argmin, flat)"
      ]
    },
    {
      "cell_type": "code",
      "execution_count": 149,
      "metadata": {
        "id": "-JnxsQRyG_vJ",
        "colab": {
          "base_uri": "https://localhost:8080/"
        },
        "outputId": "9d312ced-98fb-4f49-8214-67b88f0612eb"
      },
      "outputs": [
        {
          "output_type": "stream",
          "name": "stdout",
          "text": [
            "[0.0948 0.8104 0.2493 0.9129 0.9646 0.0157 0.7723 0.1017 0.789  0.6437]\n",
            "0.6437380494213936\n"
          ]
        }
      ],
      "source": [
        "n=np.random.uniform(0,1,10)\n",
        "print(n)\n",
        "x=0.5\n",
        "m=n.flat[np.abs(n - x).argmin()]\n",
        "print(m)"
      ]
    },
    {
      "cell_type": "markdown",
      "metadata": {
        "id": "qor2Z5M2G_vJ"
      },
      "source": [
        "#### 62. Considering two arrays with shape (1,3) and (3,1), how to compute their sum using an iterator? (★★☆) \n",
        "(**hint**: np.nditer)"
      ]
    },
    {
      "cell_type": "code",
      "execution_count": 150,
      "metadata": {
        "id": "CBSS8evcG_vJ",
        "colab": {
          "base_uri": "https://localhost:8080/"
        },
        "outputId": "67d26cdd-3b67-4883-8127-2805d584af07"
      },
      "outputs": [
        {
          "output_type": "execute_result",
          "data": {
            "text/plain": [
              "6"
            ]
          },
          "metadata": {},
          "execution_count": 150
        }
      ],
      "source": [
        "n=np.arange(3).reshape(1,3)\n",
        "m=np.arange(3).reshape(3,1)\n",
        "s=0\n",
        "for x in np.nditer(n):\n",
        "  s+=x\n",
        "for x in np.nditer(m):\n",
        "  s+=x\n",
        "s"
      ]
    },
    {
      "cell_type": "markdown",
      "metadata": {
        "id": "pxV1Jkt5G_vK"
      },
      "source": [
        "#### 63. Create an array class that has a name attribute (★★☆) \n",
        "(**hint**: class method)"
      ]
    },
    {
      "cell_type": "code",
      "execution_count": 151,
      "metadata": {
        "id": "7kqv5f0aG_vK",
        "colab": {
          "base_uri": "https://localhost:8080/",
          "height": 130
        },
        "outputId": "3bbc670b-3e9b-41c8-a3af-bb3bd18b9f41"
      },
      "outputs": [
        {
          "output_type": "error",
          "ename": "SyntaxError",
          "evalue": "ignored",
          "traceback": [
            "\u001b[0;36m  File \u001b[0;32m\"<ipython-input-151-ce24b0507c22>\"\u001b[0;36m, line \u001b[0;32m30\u001b[0m\n\u001b[0;31m    check 63 again.\u001b[0m\n\u001b[0m           ^\u001b[0m\n\u001b[0;31mSyntaxError\u001b[0m\u001b[0;31m:\u001b[0m invalid syntax\n"
          ]
        }
      ],
      "source": [
        "# class array_class(np.ndarray):\n",
        "#     def __init__(self,name):\n",
        "#       self.name=name\n",
        "                       \n",
        "    \n",
        "#     def __new__(cls, array, name=\"no name\"):\n",
        "#         obj = np.asarray(array).view(cls)\n",
        "#         obj.name = name\n",
        "#         return obj\n",
        "#     def __array_finalize__(self, obj):\n",
        "#         if obj is None: return\n",
        "#         self.info = getattr(obj, 'name', \"no name\")\n",
        "\n",
        "# Z = NamedArray(np.arange(10), \"range_10\")\n",
        "# print (Z.name)\n",
        "Z = np.arange(1,15,dtype=int)\n",
        "\n",
        "def rolling(a, window):\n",
        "    shape = (a.size - window + 1, window)\n",
        "    strides = (a.itemsize, a.itemsize)\n",
        "    return np.lib.stride_tricks.as_strided(a, shape=shape, strides=strides)\n",
        "R = rolling(Z, 4)\n",
        "print ('original: ')\n",
        "print (Z)\n",
        "print ('after strides: ')\n",
        "print(R)\n",
        "\n",
        "\n",
        "\n",
        "check 63 again."
      ]
    },
    {
      "cell_type": "markdown",
      "metadata": {
        "id": "7j-J6XvaG_vK"
      },
      "source": [
        "#### 64. Consider a given vector, how to add 1 to each element indexed by a second vector (be careful with repeated indices)? (★★★) \n",
        "(**hint**: np.bincount | np.add.at)"
      ]
    },
    {
      "cell_type": "code",
      "execution_count": 152,
      "metadata": {
        "id": "W9D3iYXRG_vL",
        "colab": {
          "base_uri": "https://localhost:8080/"
        },
        "outputId": "ee26c4f7-ee1b-438f-935f-1f41886de516"
      },
      "outputs": [
        {
          "output_type": "stream",
          "name": "stdout",
          "text": [
            "[0. 0. 0. 0. 0. 0. 0. 0. 0. 0.]\n",
            "[1. 1. 1. 3. 2. 3. 2. 3. 0. 4.]\n"
          ]
        }
      ],
      "source": [
        "n=np.zeros(10)\n",
        "m=np.random.randint(0,len(n),20)\n",
        "print(n)\n",
        "n+=np.bincount(m, minlength=len(n))\n",
        "print(n)"
      ]
    },
    {
      "cell_type": "markdown",
      "metadata": {
        "id": "gpzyMHOpG_vL"
      },
      "source": [
        "#### 65. How to accumulate elements of a vector (X) to an array (F) based on an index list (I)? (★★★) \n",
        "(**hint**: np.bincount)"
      ]
    },
    {
      "cell_type": "code",
      "execution_count": 153,
      "metadata": {
        "id": "qND3hY9ZG_vM",
        "colab": {
          "base_uri": "https://localhost:8080/"
        },
        "outputId": "df579072-9669-43cd-c2c3-8edfd9d2e23e"
      },
      "outputs": [
        {
          "output_type": "execute_result",
          "data": {
            "text/plain": [
              "array([0., 7., 0., 6., 5., 0., 0., 0., 0., 3.])"
            ]
          },
          "metadata": {},
          "execution_count": 153
        }
      ],
      "source": [
        "X=[1,2,3,4,5,6]\n",
        "I=[1,3,9,3,4,1]\n",
        "F=np.bincount(I,X)\n",
        "F"
      ]
    },
    {
      "cell_type": "markdown",
      "metadata": {
        "id": "YHgPRrCVG_vU"
      },
      "source": [
        "#### 66. Considering a (w,h,3) image of (dtype=ubyte), compute the number of unique colors (★★★) \n",
        "(**hint**: np.unique)"
      ]
    },
    {
      "cell_type": "code",
      "execution_count": 154,
      "metadata": {
        "id": "LqnyuvxgG_vV",
        "colab": {
          "base_uri": "https://localhost:8080/"
        },
        "outputId": "1e1219c6-0fed-4ef7-ef20-bf088378eeab"
      },
      "outputs": [
        {
          "output_type": "execute_result",
          "data": {
            "text/plain": [
              "array([4])"
            ]
          },
          "metadata": {},
          "execution_count": 154
        }
      ],
      "source": [
        "w,h = 16,16\n",
        "n = np.random.randint(0,2,(h,w,3)).astype(np.ubyte)\n",
        "m = n[...,0]*256*256 + n[...,1]*256 +n[...,2]\n",
        "new_n = len(np.unique(m))\n",
        "np.unique(new_n)"
      ]
    },
    {
      "cell_type": "markdown",
      "metadata": {
        "id": "byElTsYSG_vV"
      },
      "source": [
        "#### 67. Considering a four dimensions array, how to get sum over the last two axis at once? (★★★) \n",
        "(**hint**: sum(axis=(-2,-1)))"
      ]
    },
    {
      "cell_type": "code",
      "execution_count": 155,
      "metadata": {
        "id": "eArvaf0eG_vW",
        "colab": {
          "base_uri": "https://localhost:8080/"
        },
        "outputId": "ac673261-8cab-4911-e1c6-625f99ccefde"
      },
      "outputs": [
        {
          "output_type": "stream",
          "name": "stdout",
          "text": [
            "[[16. 16. 16. 16.]\n",
            " [16. 16. 16. 16.]\n",
            " [16. 16. 16. 16.]\n",
            " [16. 16. 16. 16.]]\n"
          ]
        }
      ],
      "source": [
        "n=np.zeros(256).reshape(4,4,4,4)\n",
        "n+=1\n",
        "print(n.sum(axis=(-2,-1)))"
      ]
    },
    {
      "cell_type": "markdown",
      "metadata": {
        "id": "ncqor6X_G_vX"
      },
      "source": [
        "#### 68. Considering a one-dimensional vector D, how to compute means of subsets of D using a vector S of same size describing subset  indices? (★★★) \n",
        "(**hint**: np.bincount)"
      ]
    },
    {
      "cell_type": "code",
      "execution_count": 156,
      "metadata": {
        "id": "filE-qduG_vX",
        "colab": {
          "base_uri": "https://localhost:8080/"
        },
        "outputId": "e889f8b4-50fc-4ca1-8930-b6406e6dc5f0"
      },
      "outputs": [
        {
          "output_type": "execute_result",
          "data": {
            "text/plain": [
              "array([0.6219, 0.3612, 0.5432, 0.4508, 0.6225, 0.5603, 0.5182, 0.343 ,\n",
              "       0.462 , 0.3783])"
            ]
          },
          "metadata": {},
          "execution_count": 156
        }
      ],
      "source": [
        "D = np.random.uniform(0,1,100)\n",
        "S = np.random.randint(0,10,100)\n",
        "D_sums = np.bincount(S, weights=D)\n",
        "D_counts = np.bincount(S)\n",
        "D_means = D_sums / D_counts\n",
        "D_means"
      ]
    },
    {
      "cell_type": "markdown",
      "metadata": {
        "id": "B8PEb7u0G_vX"
      },
      "source": [
        "#### 69. How to get the diagonal of a dot product? (★★★) \n",
        "(**hint**: np.diag)"
      ]
    },
    {
      "cell_type": "code",
      "execution_count": 157,
      "metadata": {
        "id": "nJkwBz9uG_vY",
        "colab": {
          "base_uri": "https://localhost:8080/"
        },
        "outputId": "7b5a3534-e2ec-4db4-a165-197ad4617774"
      },
      "outputs": [
        {
          "output_type": "execute_result",
          "data": {
            "text/plain": [
              "array([32,  2, 16, 14, 12])"
            ]
          },
          "metadata": {},
          "execution_count": 157
        }
      ],
      "source": [
        "m1=np.random.randint(0,5,(5,5))\n",
        "m2=np.random.randint(0,5,(5,5))\n",
        "np.diag(np.dot(m1,m2))"
      ]
    },
    {
      "cell_type": "markdown",
      "metadata": {
        "id": "mX9S7XacG_vY"
      },
      "source": [
        "#### 70. Consider the vector \\[1, 2, 3, 4, 5\\], how to build a new vector with 3 consecutive zeros interleaved between each value? (★★★) \n",
        "(**hint**: array\\[::4\\])"
      ]
    },
    {
      "cell_type": "code",
      "execution_count": 158,
      "metadata": {
        "id": "uc9h6h0pG_vY",
        "colab": {
          "base_uri": "https://localhost:8080/"
        },
        "outputId": "74920e6c-218e-46f5-d188-982e48ef767d"
      },
      "outputs": [
        {
          "output_type": "execute_result",
          "data": {
            "text/plain": [
              "array([1., 0., 0., 0., 2., 0., 0., 0., 3., 0., 0., 0., 4., 0., 0., 0., 5.])"
            ]
          },
          "metadata": {},
          "execution_count": 158
        }
      ],
      "source": [
        "n=np.array([1,2,3,4,5])\n",
        "m=np.zeros(3)\n",
        "l=np.empty(10)\n",
        "k=np.empty(10)\n",
        "count=0\n",
        "for i in n:\n",
        "  count+=1\n",
        "  if count==n.size:break\n",
        "  l=np.append(i,m)\n",
        "  k=np.append(k,l)\n",
        "  # print('l',l)\n",
        "k=np.append(k,n[-1])\n",
        "l=k[10:]\n",
        "l\n"
      ]
    },
    {
      "cell_type": "markdown",
      "metadata": {
        "id": "ZxMgHcvLG_vZ"
      },
      "source": [
        "#### 71. Consider an array of dimension (5,5,3), how to mulitply it by an array with dimensions (5,5)? (★★★) \n",
        "(**hint**: array\\[:, :, None\\])"
      ]
    },
    {
      "cell_type": "code",
      "execution_count": 159,
      "metadata": {
        "collapsed": true,
        "id": "w4We_wsYG_vZ",
        "colab": {
          "base_uri": "https://localhost:8080/"
        },
        "outputId": "19e33edc-3dbf-4ecd-a984-314d891a9990"
      },
      "outputs": [
        {
          "output_type": "execute_result",
          "data": {
            "text/plain": [
              "array([[[2., 2., 2.],\n",
              "        [2., 2., 2.],\n",
              "        [2., 2., 2.],\n",
              "        [2., 2., 2.],\n",
              "        [2., 2., 2.]],\n",
              "\n",
              "       [[2., 2., 2.],\n",
              "        [2., 2., 2.],\n",
              "        [2., 2., 2.],\n",
              "        [2., 2., 2.],\n",
              "        [2., 2., 2.]],\n",
              "\n",
              "       [[2., 2., 2.],\n",
              "        [2., 2., 2.],\n",
              "        [2., 2., 2.],\n",
              "        [2., 2., 2.],\n",
              "        [2., 2., 2.]],\n",
              "\n",
              "       [[2., 2., 2.],\n",
              "        [2., 2., 2.],\n",
              "        [2., 2., 2.],\n",
              "        [2., 2., 2.],\n",
              "        [2., 2., 2.]],\n",
              "\n",
              "       [[2., 2., 2.],\n",
              "        [2., 2., 2.],\n",
              "        [2., 2., 2.],\n",
              "        [2., 2., 2.],\n",
              "        [2., 2., 2.]]])"
            ]
          },
          "metadata": {},
          "execution_count": 159
        }
      ],
      "source": [
        "n=np.ones((5,5,3))\n",
        "m=2*np.ones((5,5))\n",
        "n*m[:,:,None]"
      ]
    },
    {
      "cell_type": "markdown",
      "metadata": {
        "id": "vKvyu-GxG_vZ"
      },
      "source": [
        "#### 72. How to swap two rows of an array? (★★★) \n",
        "(**hint**: array\\[\\[\\]\\] = array\\[\\[\\]\\])"
      ]
    },
    {
      "cell_type": "code",
      "execution_count": 160,
      "metadata": {
        "id": "FUAHJOK7G_va",
        "colab": {
          "base_uri": "https://localhost:8080/"
        },
        "outputId": "936c33e5-6e3e-4a81-d153-4fab291e5373"
      },
      "outputs": [
        {
          "output_type": "stream",
          "name": "stdout",
          "text": [
            "[[14 16  9  7 14  0  5  5 12  3]\n",
            " [ 7  6  3  0  3 15 18  8  3 10]]\n"
          ]
        },
        {
          "output_type": "execute_result",
          "data": {
            "text/plain": [
              "array([[ 7,  6,  3,  0,  3, 15, 18,  8,  3, 10],\n",
              "       [14, 16,  9,  7, 14,  0,  5,  5, 12,  3]])"
            ]
          },
          "metadata": {},
          "execution_count": 160
        }
      ],
      "source": [
        "n=np.random.randint(0,19,(2,10))\n",
        "print(n)\n",
        "n[[0,1]]=n[[1,0]]\n",
        "n"
      ]
    },
    {
      "cell_type": "markdown",
      "metadata": {
        "id": "xaa5789lG_vb"
      },
      "source": [
        "#### 73. Consider a set of 10 triplets describing 10 triangles (with shared vertices), find the set of unique line segments composing all the  triangles (★★★) \n",
        "(**hint**: repeat, np.roll, np.sort, view, np.unique)"
      ]
    },
    {
      "cell_type": "code",
      "execution_count": 4,
      "metadata": {
        "id": "m5B3lRF8G_vb",
        "colab": {
          "base_uri": "https://localhost:8080/"
        },
        "outputId": "e25d51e5-2b18-4a76-de00-9a7154392cca"
      },
      "outputs": [
        {
          "output_type": "stream",
          "name": "stdout",
          "text": [
            "[ 1.49473635  5.28258765 10.13737345  3.90581788  3.90302675 13.44830693\n",
            " 10.02256983  0.49410257 11.05232255  5.21550044]\n"
          ]
        }
      ],
      "source": [
        "def distance(P0, P1, p):\n",
        "    T = P1 - P0\n",
        "    L = (T**2).sum(axis=1)\n",
        "    U = -((P0[:,0]-p[...,0])*T[:,0] + (P0[:,1]-p[...,1])*T[:,1]) / L\n",
        "    U = U.reshape(len(U),1)\n",
        "    D = P0 + U*T - p\n",
        "    return np.sqrt((D**2).sum(axis=1))\n",
        "\n",
        "P0 = np.random.uniform(-10,10,(10,2))\n",
        "P1 = np.random.uniform(-10,10,(10,2))\n",
        "p  = np.random.uniform(-10,10,( 1,2))\n",
        "print(distance(P0, P1, p))"
      ]
    },
    {
      "cell_type": "markdown",
      "metadata": {
        "id": "1xOYX3aVG_vc"
      },
      "source": [
        "#### 74. Given an array C that is a bincount, how to produce an array A such that np.bincount(A) == C? (★★★) \n",
        "(**hint**: np.repeat)"
      ]
    },
    {
      "cell_type": "code",
      "execution_count": 5,
      "metadata": {
        "id": "Ch0Zorp6G_vd",
        "colab": {
          "base_uri": "https://localhost:8080/"
        },
        "outputId": "3e054345-2e9c-4d86-953f-252917f829b2"
      },
      "outputs": [
        {
          "output_type": "execute_result",
          "data": {
            "text/plain": [
              "array([1, 1, 2, 3, 4, 4, 6])"
            ]
          },
          "metadata": {},
          "execution_count": 5
        }
      ],
      "source": [
        "n=np.bincount([1,1,2,3,4,4,6])\n",
        "m=np.repeat(np.arange(len(n)),n)\n",
        "m"
      ]
    },
    {
      "cell_type": "markdown",
      "metadata": {
        "id": "Pn2S9af3G_vd"
      },
      "source": [
        "#### 75. How to compute averages using a sliding window over an array? (★★★) \n",
        "(**hint**: np.cumsum)"
      ]
    },
    {
      "cell_type": "code",
      "execution_count": 6,
      "metadata": {
        "id": "jdjLPdNEG_ve",
        "colab": {
          "base_uri": "https://localhost:8080/"
        },
        "outputId": "913e9223-1ac8-42fb-e23c-8c69033edc76"
      },
      "outputs": [
        {
          "output_type": "stream",
          "name": "stdout",
          "text": [
            "[0 1 2 3 4 5 6 7 8 9]\n",
            "[ 0  1  3  6 10 15 21 28 36 45]\n",
            "[[0 1 2]\n",
            " [3 4 5]]\n",
            "[[0 1 2]\n",
            " [3 5 7]]\n",
            "[[ 0  1  3]\n",
            " [ 3  7 12]]\n"
          ]
        }
      ],
      "source": [
        "# for 1D Array\n",
        "n=np.arange(10)\n",
        "print(n)\n",
        "print(np.cumsum(n))\n",
        "# for 2D Array\n",
        "n=np.arange(6).reshape(2,3)\n",
        "print(n)\n",
        "print(np.cumsum(n,axis=0))\n",
        "print(np.cumsum(n,axis=1))"
      ]
    },
    {
      "cell_type": "markdown",
      "metadata": {
        "id": "np8i-3PuG_ve"
      },
      "source": [
        "#### 76. Consider a one-dimensional array Z, build a two-dimensional array whose first row is (Z\\[0\\],Z\\[1\\],Z\\[2\\]) and each subsequent row is  shifted by 1 (last row should be (Z\\[-3\\],Z\\[-2\\],Z\\[-1\\]) (★★★) \n",
        "(**hint**: from numpy.lib import stride_tricks)"
      ]
    },
    {
      "cell_type": "code",
      "execution_count": 7,
      "metadata": {
        "id": "jHkh_4xmG_vf",
        "colab": {
          "base_uri": "https://localhost:8080/"
        },
        "outputId": "fd11e389-f017-48cf-c578-003aa2d532a5"
      },
      "outputs": [
        {
          "output_type": "execute_result",
          "data": {
            "text/plain": [
              "array([( 1, 10), ( 1, 20), ( 2, 24), ( 2, 33), ( 2, 37), ( 2, 78),\n",
              "       ( 6, 75), ( 6, 95), ( 8, 20), ( 8, 46), ( 9, 28), ( 9, 55),\n",
              "       (10, 20), (11, 38), (11, 87), (13, 56), (13, 91), (20, 46),\n",
              "       (24, 37), (28, 55), (29, 93), (29, 96), (33, 78), (38, 87),\n",
              "       (55, 84), (55, 96), (56, 91), (75, 95), (84, 96), (93, 96)],\n",
              "      dtype=[('p0', '<i8'), ('p1', '<i8')])"
            ]
          },
          "metadata": {},
          "execution_count": 7
        }
      ],
      "source": [
        "import numpy as np\n",
        "from numpy.lib import stride_tricks\n",
        "faces = np.random.randint(0,100,(10,3))\n",
        "F = np.roll(faces.repeat(2,axis=1),-1,axis=1)\n",
        "F = F.reshape(len(F)*3,2)\n",
        "F = np.sort(F,axis=1)\n",
        "G = F.view( dtype=[('p0',F.dtype),('p1',F.dtype)] )\n",
        "G = np.unique(G)\n",
        "G"
      ]
    },
    {
      "cell_type": "markdown",
      "metadata": {
        "id": "MrmV98K-G_vf"
      },
      "source": [
        "#### 77. How to negate a boolean, or to change the sign of a float inplace? (★★★) \n",
        "(**hint**: np.logical_not, np.negative)"
      ]
    },
    {
      "cell_type": "code",
      "execution_count": 45,
      "metadata": {
        "id": "AfrNmKhdG_vg",
        "colab": {
          "base_uri": "https://localhost:8080/"
        },
        "outputId": "a4992e13-886e-4e05-aee4-8cab7ab002fb"
      },
      "outputs": [
        {
          "output_type": "stream",
          "name": "stdout",
          "text": [
            "[0. 1. 2. 3. 4. 5. 6. 7. 8. 9.]\n",
            "[ True False False False False False False False False False]\n"
          ]
        }
      ],
      "source": [
        "n=np.arange(10,dtype=float)\n",
        "n*=-1       #one method is simply mutliplication by -1\n",
        "print(np.negative(n))\n",
        "print(np.logical_not(n))"
      ]
    },
    {
      "cell_type": "markdown",
      "metadata": {
        "id": "MkNIFq0jG_vh"
      },
      "source": [
        "#### 78. Consider 2 sets of points P0,P1 describing lines (2d) and a point p, how to compute distance from p to each line i  (P0\\[i\\],P1\\[i\\])? (★★★)"
      ]
    },
    {
      "cell_type": "code",
      "execution_count": 46,
      "metadata": {
        "id": "bIy7MIdkG_vi",
        "colab": {
          "base_uri": "https://localhost:8080/"
        },
        "outputId": "9642b267-3a26-4570-b378-096d1777e6e1"
      },
      "outputs": [
        {
          "output_type": "stream",
          "name": "stdout",
          "text": [
            "[ 3.04465899  5.06857036  3.65195592 14.61770315 12.3062699   5.53010898\n",
            "  4.38785922  4.20942625  8.80334143 10.82483569]\n"
          ]
        }
      ],
      "source": [
        "def distance(P0, P1, p):\n",
        "    T = P1 - P0\n",
        "    L = (T**2).sum(axis=1)\n",
        "    U = -((P0[:,0]-p[...,0])*T[:,0] + (P0[:,1]-p[...,1])*T[:,1]) / L\n",
        "    U = U.reshape(len(U),1)\n",
        "    D = P0 + U*T - p\n",
        "    return np.sqrt((D**2).sum(axis=1))\n",
        "\n",
        "P0 = np.random.uniform(-10,10,(10,2))\n",
        "P1 = np.random.uniform(-10,10,(10,2))\n",
        "p  = np.random.uniform(-10,10,( 1,2))\n",
        "print(distance(P0, P1, p))"
      ]
    },
    {
      "cell_type": "markdown",
      "metadata": {
        "id": "QRdTxXeWG_vi"
      },
      "source": [
        "#### 79. Consider 2 sets of points P0,P1 describing lines (2d) and a set of points P, how to compute distance from each point j (P\\[j\\]) to each line i (P0\\[i\\],P1\\[i\\])? (★★★)"
      ]
    },
    {
      "cell_type": "code",
      "execution_count": 47,
      "metadata": {
        "id": "b3WNKbAWG_vi",
        "colab": {
          "base_uri": "https://localhost:8080/"
        },
        "outputId": "992798ec-c107-4f27-d467-c32e60de590f"
      },
      "outputs": [
        {
          "output_type": "stream",
          "name": "stdout",
          "text": [
            "[[ 6.73907758  1.11853779  9.57766138  0.2721796   8.32397234]\n",
            " [12.26541594  5.70636422 16.58589968  8.88810857  1.34288204]\n",
            " [ 3.94653846  3.52410683  7.23892078  1.25936011  8.17052439]\n",
            " [ 2.28685764  6.60784856  3.94203622  6.64456319 16.06809094]\n",
            " [ 3.87043782  2.68609086  8.21689039  1.1434834   3.8022499 ]]\n"
          ]
        }
      ],
      "source": [
        "P0 = np.random.uniform(-10, 10, (5,2))\n",
        "P1 = np.random.uniform(-10,10,(5,2))\n",
        "p = np.random.uniform(-10, 10, (5,2))\n",
        "print (np.array([distance(P0,P1,p_i) for p_i in p]))"
      ]
    },
    {
      "cell_type": "markdown",
      "metadata": {
        "id": "fFYQlMsbG_vj"
      },
      "source": [
        "#### 80. Consider an arbitrary array, write a function that extract a subpart with a fixed shape and centered on a given element (pad with a `fill` value when necessary) (★★★) \n",
        "(**hint**: minimum, maximum)"
      ]
    },
    {
      "cell_type": "code",
      "execution_count": 11,
      "metadata": {
        "id": "9c16eumLG_vj",
        "colab": {
          "base_uri": "https://localhost:8080/"
        },
        "outputId": "4dc91bb1-d406-4f54-80a0-40713eff9004"
      },
      "outputs": [
        {
          "output_type": "stream",
          "name": "stdout",
          "text": [
            "[[4 7 8 3 4 6 1 9 9 1]\n",
            " [9 1 7 3 9 6 4 6 4 4]\n",
            " [9 4 1 9 6 3 7 4 5 4]\n",
            " [7 9 4 6 7 8 9 0 6 6]\n",
            " [8 2 9 9 7 4 4 8 8 2]\n",
            " [8 4 4 3 6 0 9 7 1 6]\n",
            " [0 5 9 2 6 1 9 8 6 7]\n",
            " [4 1 2 7 8 2 0 4 2 9]\n",
            " [5 0 7 6 7 8 7 4 2 5]\n",
            " [2 8 0 2 4 8 0 4 6 6]]\n"
          ]
        },
        {
          "output_type": "stream",
          "name": "stderr",
          "text": [
            "/usr/local/lib/python3.7/dist-packages/ipykernel_launcher.py:23: FutureWarning: Using a non-tuple sequence for multidimensional indexing is deprecated; use `arr[tuple(seq)]` instead of `arr[seq]`. In the future this will be interpreted as an array index, `arr[np.array(seq)]`, which will result either in an error or a different result.\n"
          ]
        },
        {
          "output_type": "execute_result",
          "data": {
            "text/plain": [
              "array([[0, 0, 0, 0, 0],\n",
              "       [0, 4, 7, 8, 3],\n",
              "       [0, 9, 1, 7, 3],\n",
              "       [0, 9, 4, 1, 9],\n",
              "       [0, 7, 9, 4, 6]])"
            ]
          },
          "metadata": {},
          "execution_count": 11
        }
      ],
      "source": [
        "Z = np.random.randint(0,10,(10,10))\n",
        "shape = (5,5)\n",
        "fill  = 0\n",
        "position = (1,1)\n",
        "\n",
        "R = np.ones(shape, dtype=Z.dtype)*fill\n",
        "P  = np.array(list(position)).astype(int)\n",
        "Rs = np.array(list(R.shape)).astype(int)\n",
        "Zs = np.array(list(Z.shape)).astype(int)\n",
        "\n",
        "R_start = np.zeros((len(shape),)).astype(int)\n",
        "R_stop  = np.array(list(shape)).astype(int)\n",
        "Z_start = (P-Rs//2)\n",
        "Z_stop  = (P+Rs//2)+Rs%2\n",
        "\n",
        "R_start = (R_start - np.minimum(Z_start,0)).tolist()\n",
        "Z_start = (np.maximum(Z_start,0)).tolist()\n",
        "R_stop = np.maximum(R_start, (R_stop - np.maximum(Z_stop-Zs,0))).tolist()\n",
        "Z_stop = (np.minimum(Z_stop,Zs)).tolist()\n",
        "\n",
        "r = [slice(start,stop) for start,stop in zip(R_start,R_stop)]\n",
        "z = [slice(start,stop) for start,stop in zip(Z_start,Z_stop)]\n",
        "R[r] = Z[z]\n",
        "print(Z)\n",
        "R"
      ]
    },
    {
      "cell_type": "markdown",
      "metadata": {
        "id": "HtDVWBj6G_vl"
      },
      "source": [
        "#### 81. Consider an array Z = \\[1,2,3,4,5,6,7,8,9,10,11,12,13,14\\], how to generate an array R = \\[\\[1,2,3,4\\], \\[2,3,4,5\\], \\[3,4,5,6\\], ..., \\[11,12,13,14\\]\\]? (★★★) \n",
        "(**hint**: stride\\_tricks.as\\_strided)"
      ]
    },
    {
      "cell_type": "code",
      "execution_count": 12,
      "metadata": {
        "id": "omMpUIpcG_vl",
        "colab": {
          "base_uri": "https://localhost:8080/"
        },
        "outputId": "7ed307a2-3b78-437b-f494-cbbb3578f6a4"
      },
      "outputs": [
        {
          "output_type": "stream",
          "name": "stdout",
          "text": [
            "original: \n",
            "[ 1  2  3  4  5  6  7  8  9 10 11 12 13 14]\n",
            "after strides: \n"
          ]
        },
        {
          "output_type": "execute_result",
          "data": {
            "text/plain": [
              "array([[ 1,  2,  3,  4],\n",
              "       [ 2,  3,  4,  5],\n",
              "       [ 3,  4,  5,  6],\n",
              "       [ 4,  5,  6,  7],\n",
              "       [ 5,  6,  7,  8],\n",
              "       [ 6,  7,  8,  9],\n",
              "       [ 7,  8,  9, 10],\n",
              "       [ 8,  9, 10, 11],\n",
              "       [ 9, 10, 11, 12],\n",
              "       [10, 11, 12, 13],\n",
              "       [11, 12, 13, 14]])"
            ]
          },
          "metadata": {},
          "execution_count": 12
        }
      ],
      "source": [
        "Z = np.arange(1,15,dtype=int)\n",
        "\n",
        "def rolling(a, window):\n",
        "    shape = (a.size - window + 1, window)\n",
        "    strides = (a.itemsize, a.itemsize)\n",
        "    return np.lib.stride_tricks.as_strided(a, shape=shape, strides=strides)\n",
        "R = rolling(Z, 4)\n",
        "print ('original: ')\n",
        "print (Z)\n",
        "print ('after strides: ')\n",
        "R"
      ]
    },
    {
      "cell_type": "markdown",
      "metadata": {
        "id": "u76JQGcgG_vm"
      },
      "source": [
        "#### 82. Compute a matrix rank (★★★) \n",
        "(**hint**: np.linalg.svd) (suggestion: np.linalg.svd)"
      ]
    },
    {
      "cell_type": "code",
      "execution_count": 13,
      "metadata": {
        "id": "M5sAKCPvG_vm",
        "colab": {
          "base_uri": "https://localhost:8080/"
        },
        "outputId": "3b26d694-d146-4b26-ed0e-6901e9a9ac8a"
      },
      "outputs": [
        {
          "output_type": "execute_result",
          "data": {
            "text/plain": [
              "10"
            ]
          },
          "metadata": {},
          "execution_count": 13
        }
      ],
      "source": [
        "Z = np.random.uniform(0,1,(10,10))\n",
        "U, S, V = np.linalg.svd(Z) # Singular Value Decomposition\n",
        "rank = np.sum(S > 1e-10)\n",
        "rank"
      ]
    },
    {
      "cell_type": "markdown",
      "metadata": {
        "id": "UaLaol2cG_vn"
      },
      "source": [
        "#### 83. How to find the most frequent value in an array? \n",
        "(**hint**: np.bincount, argmax)"
      ]
    },
    {
      "cell_type": "code",
      "execution_count": 14,
      "metadata": {
        "id": "jPrU04KbG_vn",
        "colab": {
          "base_uri": "https://localhost:8080/"
        },
        "outputId": "fdf3bf2c-652b-4cbe-d3d4-b25badcbf501"
      },
      "outputs": [
        {
          "output_type": "execute_result",
          "data": {
            "text/plain": [
              "3"
            ]
          },
          "metadata": {},
          "execution_count": 14
        }
      ],
      "source": [
        "n=np.array([1,2,3,3,3,3,3,3,5,6,7,7,7,7,8])\n",
        "np.argmax(np.bincount(n))"
      ]
    },
    {
      "cell_type": "markdown",
      "metadata": {
        "id": "FpEtutPaG_vn"
      },
      "source": [
        "#### 84. Extract all the contiguous 3x3 blocks from a random 10x10 matrix (★★★) \n",
        "(**hint**: stride\\_tricks.as\\_strided)"
      ]
    },
    {
      "cell_type": "code",
      "execution_count": 15,
      "metadata": {
        "id": "z3mAyIqCG_vo",
        "colab": {
          "base_uri": "https://localhost:8080/"
        },
        "outputId": "6edc8800-6038-479a-aef3-124dae4b8eb5"
      },
      "outputs": [
        {
          "output_type": "execute_result",
          "data": {
            "text/plain": [
              "array([[[[2, 1, 1],\n",
              "         [1, 1, 3],\n",
              "         [0, 2, 4]],\n",
              "\n",
              "        [[1, 1, 2],\n",
              "         [1, 3, 4],\n",
              "         [2, 4, 4]],\n",
              "\n",
              "        [[1, 2, 4],\n",
              "         [3, 4, 0],\n",
              "         [4, 4, 2]],\n",
              "\n",
              "        [[2, 4, 3],\n",
              "         [4, 0, 0],\n",
              "         [4, 2, 2]],\n",
              "\n",
              "        [[4, 3, 4],\n",
              "         [0, 0, 3],\n",
              "         [2, 2, 3]],\n",
              "\n",
              "        [[3, 4, 3],\n",
              "         [0, 3, 4],\n",
              "         [2, 3, 2]],\n",
              "\n",
              "        [[4, 3, 2],\n",
              "         [3, 4, 3],\n",
              "         [3, 2, 2]],\n",
              "\n",
              "        [[3, 2, 3],\n",
              "         [4, 3, 2],\n",
              "         [2, 2, 4]]],\n",
              "\n",
              "\n",
              "       [[[1, 1, 3],\n",
              "         [0, 2, 4],\n",
              "         [4, 2, 2]],\n",
              "\n",
              "        [[1, 3, 4],\n",
              "         [2, 4, 4],\n",
              "         [2, 2, 0]],\n",
              "\n",
              "        [[3, 4, 0],\n",
              "         [4, 4, 2],\n",
              "         [2, 0, 3]],\n",
              "\n",
              "        [[4, 0, 0],\n",
              "         [4, 2, 2],\n",
              "         [0, 3, 3]],\n",
              "\n",
              "        [[0, 0, 3],\n",
              "         [2, 2, 3],\n",
              "         [3, 3, 1]],\n",
              "\n",
              "        [[0, 3, 4],\n",
              "         [2, 3, 2],\n",
              "         [3, 1, 2]],\n",
              "\n",
              "        [[3, 4, 3],\n",
              "         [3, 2, 2],\n",
              "         [1, 2, 4]],\n",
              "\n",
              "        [[4, 3, 2],\n",
              "         [2, 2, 4],\n",
              "         [2, 4, 3]]],\n",
              "\n",
              "\n",
              "       [[[0, 2, 4],\n",
              "         [4, 2, 2],\n",
              "         [2, 2, 4]],\n",
              "\n",
              "        [[2, 4, 4],\n",
              "         [2, 2, 0],\n",
              "         [2, 4, 4]],\n",
              "\n",
              "        [[4, 4, 2],\n",
              "         [2, 0, 3],\n",
              "         [4, 4, 2]],\n",
              "\n",
              "        [[4, 2, 2],\n",
              "         [0, 3, 3],\n",
              "         [4, 2, 4]],\n",
              "\n",
              "        [[2, 2, 3],\n",
              "         [3, 3, 1],\n",
              "         [2, 4, 4]],\n",
              "\n",
              "        [[2, 3, 2],\n",
              "         [3, 1, 2],\n",
              "         [4, 4, 2]],\n",
              "\n",
              "        [[3, 2, 2],\n",
              "         [1, 2, 4],\n",
              "         [4, 2, 0]],\n",
              "\n",
              "        [[2, 2, 4],\n",
              "         [2, 4, 3],\n",
              "         [2, 0, 0]]],\n",
              "\n",
              "\n",
              "       [[[4, 2, 2],\n",
              "         [2, 2, 4],\n",
              "         [2, 0, 0]],\n",
              "\n",
              "        [[2, 2, 0],\n",
              "         [2, 4, 4],\n",
              "         [0, 0, 1]],\n",
              "\n",
              "        [[2, 0, 3],\n",
              "         [4, 4, 2],\n",
              "         [0, 1, 4]],\n",
              "\n",
              "        [[0, 3, 3],\n",
              "         [4, 2, 4],\n",
              "         [1, 4, 0]],\n",
              "\n",
              "        [[3, 3, 1],\n",
              "         [2, 4, 4],\n",
              "         [4, 0, 4]],\n",
              "\n",
              "        [[3, 1, 2],\n",
              "         [4, 4, 2],\n",
              "         [0, 4, 0]],\n",
              "\n",
              "        [[1, 2, 4],\n",
              "         [4, 2, 0],\n",
              "         [4, 0, 1]],\n",
              "\n",
              "        [[2, 4, 3],\n",
              "         [2, 0, 0],\n",
              "         [0, 1, 4]]],\n",
              "\n",
              "\n",
              "       [[[2, 2, 4],\n",
              "         [2, 0, 0],\n",
              "         [0, 4, 2]],\n",
              "\n",
              "        [[2, 4, 4],\n",
              "         [0, 0, 1],\n",
              "         [4, 2, 4]],\n",
              "\n",
              "        [[4, 4, 2],\n",
              "         [0, 1, 4],\n",
              "         [2, 4, 1]],\n",
              "\n",
              "        [[4, 2, 4],\n",
              "         [1, 4, 0],\n",
              "         [4, 1, 2]],\n",
              "\n",
              "        [[2, 4, 4],\n",
              "         [4, 0, 4],\n",
              "         [1, 2, 3]],\n",
              "\n",
              "        [[4, 4, 2],\n",
              "         [0, 4, 0],\n",
              "         [2, 3, 2]],\n",
              "\n",
              "        [[4, 2, 0],\n",
              "         [4, 0, 1],\n",
              "         [3, 2, 1]],\n",
              "\n",
              "        [[2, 0, 0],\n",
              "         [0, 1, 4],\n",
              "         [2, 1, 1]]],\n",
              "\n",
              "\n",
              "       [[[2, 0, 0],\n",
              "         [0, 4, 2],\n",
              "         [1, 0, 1]],\n",
              "\n",
              "        [[0, 0, 1],\n",
              "         [4, 2, 4],\n",
              "         [0, 1, 1]],\n",
              "\n",
              "        [[0, 1, 4],\n",
              "         [2, 4, 1],\n",
              "         [1, 1, 4]],\n",
              "\n",
              "        [[1, 4, 0],\n",
              "         [4, 1, 2],\n",
              "         [1, 4, 4]],\n",
              "\n",
              "        [[4, 0, 4],\n",
              "         [1, 2, 3],\n",
              "         [4, 4, 2]],\n",
              "\n",
              "        [[0, 4, 0],\n",
              "         [2, 3, 2],\n",
              "         [4, 2, 1]],\n",
              "\n",
              "        [[4, 0, 1],\n",
              "         [3, 2, 1],\n",
              "         [2, 1, 3]],\n",
              "\n",
              "        [[0, 1, 4],\n",
              "         [2, 1, 1],\n",
              "         [1, 3, 3]]],\n",
              "\n",
              "\n",
              "       [[[0, 4, 2],\n",
              "         [1, 0, 1],\n",
              "         [3, 1, 1]],\n",
              "\n",
              "        [[4, 2, 4],\n",
              "         [0, 1, 1],\n",
              "         [1, 1, 2]],\n",
              "\n",
              "        [[2, 4, 1],\n",
              "         [1, 1, 4],\n",
              "         [1, 2, 2]],\n",
              "\n",
              "        [[4, 1, 2],\n",
              "         [1, 4, 4],\n",
              "         [2, 2, 2]],\n",
              "\n",
              "        [[1, 2, 3],\n",
              "         [4, 4, 2],\n",
              "         [2, 2, 0]],\n",
              "\n",
              "        [[2, 3, 2],\n",
              "         [4, 2, 1],\n",
              "         [2, 0, 1]],\n",
              "\n",
              "        [[3, 2, 1],\n",
              "         [2, 1, 3],\n",
              "         [0, 1, 4]],\n",
              "\n",
              "        [[2, 1, 1],\n",
              "         [1, 3, 3],\n",
              "         [1, 4, 4]]],\n",
              "\n",
              "\n",
              "       [[[1, 0, 1],\n",
              "         [3, 1, 1],\n",
              "         [4, 2, 2]],\n",
              "\n",
              "        [[0, 1, 1],\n",
              "         [1, 1, 2],\n",
              "         [2, 2, 4]],\n",
              "\n",
              "        [[1, 1, 4],\n",
              "         [1, 2, 2],\n",
              "         [2, 4, 3]],\n",
              "\n",
              "        [[1, 4, 4],\n",
              "         [2, 2, 2],\n",
              "         [4, 3, 1]],\n",
              "\n",
              "        [[4, 4, 2],\n",
              "         [2, 2, 0],\n",
              "         [3, 1, 1]],\n",
              "\n",
              "        [[4, 2, 1],\n",
              "         [2, 0, 1],\n",
              "         [1, 1, 1]],\n",
              "\n",
              "        [[2, 1, 3],\n",
              "         [0, 1, 4],\n",
              "         [1, 1, 1]],\n",
              "\n",
              "        [[1, 3, 3],\n",
              "         [1, 4, 4],\n",
              "         [1, 1, 3]]]])"
            ]
          },
          "metadata": {},
          "execution_count": 15
        }
      ],
      "source": [
        "Z = np.random.randint(0,5,(10,10))\n",
        "n = 3\n",
        "i = 1 + (Z.shape[0]-3)\n",
        "j = 1 + (Z.shape[1]-3)\n",
        "C = stride_tricks.as_strided(Z, shape=(i, j, n, n), strides=Z.strides + Z.strides)\n",
        "C"
      ]
    },
    {
      "cell_type": "markdown",
      "metadata": {
        "id": "-R7RtIY4G_vo"
      },
      "source": [
        "#### 85. Create a 2D array subclass such that Z\\[i,j\\] == Z\\[j,i\\] (★★★) \n",
        "(**hint**: class method)"
      ]
    },
    {
      "cell_type": "code",
      "execution_count": null,
      "metadata": {
        "id": "J2afUWMOG_vp"
      },
      "outputs": [],
      "source": [
        "class Symetric(np.ndarray):\n",
        "    def __setitem__(self, (i,j), value):\n",
        "        super(Symetric, self).__setitem__((i,j), value)\n",
        "        super(Symetric, self).__setitem__((j,i), value)\n",
        "\n",
        "def symetric(Z):\n",
        "    return np.asarray(Z + Z.T - np.diag(Z.diagonal())).view(Symetric)\n",
        "\n",
        "S = symetric(np.random.randint(0,10,(5,5)))\n",
        "S[2,3] = 42\n",
        "print(S)"
      ]
    },
    {
      "cell_type": "markdown",
      "metadata": {
        "id": "BwRjBB_4G_vp"
      },
      "source": [
        "#### 86. Consider a set of p matrices wich shape (n,n) and a set of p vectors with shape (n,1). How to compute the sum of of the p matrix products at once? (result has shape (n,1)) (★★★) \n",
        "(**hint**: np.tensordot)"
      ]
    },
    {
      "cell_type": "code",
      "execution_count": 21,
      "metadata": {
        "id": "PD_qXHTGG_vp",
        "colab": {
          "base_uri": "https://localhost:8080/"
        },
        "outputId": "3ee61ed6-4658-4b44-b9d5-91f5b24f0917"
      },
      "outputs": [
        {
          "output_type": "stream",
          "name": "stdout",
          "text": [
            "[[200.]\n",
            " [200.]\n",
            " [200.]\n",
            " [200.]\n",
            " [200.]\n",
            " [200.]\n",
            " [200.]\n",
            " [200.]\n",
            " [200.]\n",
            " [200.]\n",
            " [200.]\n",
            " [200.]\n",
            " [200.]\n",
            " [200.]\n",
            " [200.]\n",
            " [200.]\n",
            " [200.]\n",
            " [200.]\n",
            " [200.]\n",
            " [200.]]\n"
          ]
        }
      ],
      "source": [
        "p, n = 10, 20\n",
        "m=np.ones((p,n,n))\n",
        "k=np.ones((p,n,1))\n",
        "l=np.tensordot(m, k, axes=[[0, 2], [0, 1]])\n",
        "print(l)\n"
      ]
    },
    {
      "cell_type": "markdown",
      "metadata": {
        "id": "VZjy2pYOG_vq"
      },
      "source": [
        "#### 87. Consider a 16x16 array, how to get the block-sum (block size is 4x4)? (★★★) \n",
        "(**hint**: np.add.reduceat)"
      ]
    },
    {
      "cell_type": "code",
      "execution_count": 22,
      "metadata": {
        "id": "KNcVX3U-G_vq",
        "colab": {
          "base_uri": "https://localhost:8080/"
        },
        "outputId": "4c617bdc-8e11-4126-d190-00e350ad221c"
      },
      "outputs": [
        {
          "output_type": "stream",
          "name": "stdout",
          "text": [
            "[[1. 1. 1. 1. 1. 1. 1. 1. 1. 1. 1. 1. 1. 1. 1. 1.]\n",
            " [1. 1. 1. 1. 1. 1. 1. 1. 1. 1. 1. 1. 1. 1. 1. 1.]\n",
            " [1. 1. 1. 1. 1. 1. 1. 1. 1. 1. 1. 1. 1. 1. 1. 1.]\n",
            " [1. 1. 1. 1. 1. 1. 1. 1. 1. 1. 1. 1. 1. 1. 1. 1.]\n",
            " [1. 1. 1. 1. 1. 1. 1. 1. 1. 1. 1. 1. 1. 1. 1. 1.]\n",
            " [1. 1. 1. 1. 1. 1. 1. 1. 1. 1. 1. 1. 1. 1. 1. 1.]\n",
            " [1. 1. 1. 1. 1. 1. 1. 1. 1. 1. 1. 1. 1. 1. 1. 1.]\n",
            " [1. 1. 1. 1. 1. 1. 1. 1. 1. 1. 1. 1. 1. 1. 1. 1.]\n",
            " [1. 1. 1. 1. 1. 1. 1. 1. 1. 1. 1. 1. 1. 1. 1. 1.]\n",
            " [1. 1. 1. 1. 1. 1. 1. 1. 1. 1. 1. 1. 1. 1. 1. 1.]\n",
            " [1. 1. 1. 1. 1. 1. 1. 1. 1. 1. 1. 1. 1. 1. 1. 1.]\n",
            " [1. 1. 1. 1. 1. 1. 1. 1. 1. 1. 1. 1. 1. 1. 1. 1.]\n",
            " [1. 1. 1. 1. 1. 1. 1. 1. 1. 1. 1. 1. 1. 1. 1. 1.]\n",
            " [1. 1. 1. 1. 1. 1. 1. 1. 1. 1. 1. 1. 1. 1. 1. 1.]\n",
            " [1. 1. 1. 1. 1. 1. 1. 1. 1. 1. 1. 1. 1. 1. 1. 1.]\n",
            " [1. 1. 1. 1. 1. 1. 1. 1. 1. 1. 1. 1. 1. 1. 1. 1.]]\n"
          ]
        },
        {
          "output_type": "execute_result",
          "data": {
            "text/plain": [
              "array([[16., 16., 16., 16.],\n",
              "       [16., 16., 16., 16.],\n",
              "       [16., 16., 16., 16.],\n",
              "       [16., 16., 16., 16.]])"
            ]
          },
          "metadata": {},
          "execution_count": 22
        }
      ],
      "source": [
        "n=np.ones((16,16))\n",
        "k=4\n",
        "block=np.add.reduceat(np.add.reduceat(n, np.arange(0, n.shape[0], k), axis=0),\n",
        "                                       np.arange(0, n.shape[1], k), axis=1)\n",
        "print(n)\n",
        "block"
      ]
    },
    {
      "cell_type": "markdown",
      "metadata": {
        "id": "nTaT1WUmG_vq"
      },
      "source": [
        "#### 88. How to implement the Game of Life using numpy arrays? (★★★)"
      ]
    },
    {
      "cell_type": "code",
      "execution_count": 24,
      "metadata": {
        "id": "zH48C_MBG_vr",
        "colab": {
          "base_uri": "https://localhost:8080/"
        },
        "outputId": "9ae50ff9-4f00-4aca-880f-8bf0a9077fba"
      },
      "outputs": [
        {
          "output_type": "execute_result",
          "data": {
            "text/plain": [
              "array([[0, 0, 0, ..., 0, 0, 0],\n",
              "       [0, 0, 0, ..., 0, 0, 0],\n",
              "       [0, 0, 0, ..., 0, 0, 0],\n",
              "       ...,\n",
              "       [0, 0, 0, ..., 0, 0, 0],\n",
              "       [0, 0, 0, ..., 0, 0, 0],\n",
              "       [0, 0, 0, ..., 0, 0, 0]])"
            ]
          },
          "metadata": {},
          "execution_count": 24
        }
      ],
      "source": [
        "def iterate(Z):\n",
        "    N = (Z[0:-2,0:-2] + Z[0:-2,1:-1] + Z[0:-2,2:] +\n",
        "         Z[1:-1,0:-2]                + Z[1:-1,2:] +\n",
        "         Z[2:  ,0:-2] + Z[2:  ,1:-1] + Z[2:  ,2:])\n",
        "    \n",
        "    birth = (N==3) & (Z[1:-1,1:-1]==0)\n",
        "    survive = ((N==2) | (N==3)) & (Z[1:-1,1:-1]==1)\n",
        "    Z[...] = 0\n",
        "    Z[1:-1,1:-1][birth | survive] = 1\n",
        "    return Z\n",
        "\n",
        "Z = np.random.randint(0,2,(50,50))\n",
        "for i in range(100): Z = iterate(Z)\n",
        "Z"
      ]
    },
    {
      "cell_type": "markdown",
      "metadata": {
        "id": "3PK9TGu_G_vr"
      },
      "source": [
        "#### 89. How to get the n largest values of an array (★★★) \n",
        "(**hint**: np.argsort | np.argpartition)"
      ]
    },
    {
      "cell_type": "code",
      "execution_count": 25,
      "metadata": {
        "id": "8cXoMArhG_vs",
        "colab": {
          "base_uri": "https://localhost:8080/"
        },
        "outputId": "3be7a5af-3ccf-442f-8452-07a847396de4"
      },
      "outputs": [
        {
          "output_type": "stream",
          "name": "stdout",
          "text": [
            "[95 96 97 98 99]\n",
            "[98 99 97 96 95]\n"
          ]
        }
      ],
      "source": [
        "n=np.arange(100)\n",
        "np.random.shuffle(Z)\n",
        "x=5\n",
        "print(n[np.argsort(n)[-x:]])\n",
        "print(n[np.argpartition(-n,x)[:x]])"
      ]
    },
    {
      "cell_type": "markdown",
      "metadata": {
        "id": "XOFJaOaoG_vt"
      },
      "source": [
        "#### 90. Given an arbitrary number of vectors, build the cartesian product (every combinations of every item) (★★★) \n",
        "(**hint**: np.indices)"
      ]
    },
    {
      "cell_type": "code",
      "execution_count": 26,
      "metadata": {
        "scrolled": true,
        "id": "eyKuen82G_vu",
        "colab": {
          "base_uri": "https://localhost:8080/"
        },
        "outputId": "a5e5a59c-b62a-4aa2-9e25-854c9bd51c5d"
      },
      "outputs": [
        {
          "output_type": "stream",
          "name": "stdout",
          "text": [
            "[[1 4 6]\n",
            " [1 4 7]\n",
            " [1 5 6]\n",
            " [1 5 7]\n",
            " [2 4 6]\n",
            " [2 4 7]\n",
            " [2 5 6]\n",
            " [2 5 7]\n",
            " [3 4 6]\n",
            " [3 4 7]\n",
            " [3 5 6]\n",
            " [3 5 7]]\n"
          ]
        }
      ],
      "source": [
        "def cartesian(arrays):\n",
        "    arrays = [np.asarray(a) for a in arrays]\n",
        "    shape = (len(x) for x in arrays)\n",
        "\n",
        "    ix = np.indices(shape, dtype=int)\n",
        "    ix = ix.reshape(len(arrays), -1).T\n",
        "\n",
        "    for n, arr in enumerate(arrays):\n",
        "        ix[:, n] = arrays[n][ix[:, n]]\n",
        "\n",
        "    return ix\n",
        "\n",
        "print (cartesian(([1, 2, 3], [4, 5], [6, 7])))"
      ]
    },
    {
      "cell_type": "markdown",
      "metadata": {
        "id": "UuV6KkcIG_vu"
      },
      "source": [
        "#### 91. How to create a record array from a regular array? (★★★) \n",
        "(**hint**: np.core.records.fromarrays)"
      ]
    },
    {
      "cell_type": "code",
      "execution_count": 27,
      "metadata": {
        "id": "UphySBNrG_vu",
        "colab": {
          "base_uri": "https://localhost:8080/"
        },
        "outputId": "d22a3d40-78a9-42c3-9b5c-854061be94e2"
      },
      "outputs": [
        {
          "output_type": "execute_result",
          "data": {
            "text/plain": [
              "rec.array([(b'1',  2.,  3), (b'11', 12., 13)],\n",
              "          dtype=[('col1', 'S8'), ('col2', '<f8'), ('col3', '<i8')])"
            ]
          },
          "metadata": {},
          "execution_count": 27
        }
      ],
      "source": [
        "n=np.array([(1,2,3),(11,12,13)])\n",
        "np.core.records.fromarrays(n.T, names='col1, col2, col3', formats = 'S8, f8, i8')"
      ]
    },
    {
      "cell_type": "markdown",
      "metadata": {
        "id": "0QhH8UbQG_vu"
      },
      "source": [
        "#### 92. Consider a large vector Z, compute Z to the power of 3 using 3 different methods (★★★) \n",
        "(**hint**: np.power, \\*, np.einsum)"
      ]
    },
    {
      "cell_type": "code",
      "execution_count": 58,
      "metadata": {
        "id": "g7r5t_ADG_vv",
        "colab": {
          "base_uri": "https://localhost:8080/"
        },
        "outputId": "7207fd31-676e-4c2b-c2cb-81b8e632d592"
      },
      "outputs": [
        {
          "output_type": "stream",
          "name": "stdout",
          "text": [
            "The slowest run took 12.78 times longer than the fastest. This could mean that an intermediate result is being cached.\n",
            "100000 loops, best of 5: 4.33 µs per loop\n",
            "The slowest run took 13.48 times longer than the fastest. This could mean that an intermediate result is being cached.\n",
            "1000000 loops, best of 5: 1.05 µs per loop\n"
          ]
        }
      ],
      "source": [
        "x = np.random.rand(5,7)\n",
        "%timeit np.power(x,3)\n",
        "%timeit x*x*x\n",
        "%timeit np.einsum('i,i,i->i',x,x,x)"
      ]
    },
    {
      "cell_type": "markdown",
      "metadata": {
        "id": "I6-jaZeNG_vv"
      },
      "source": [
        "#### 93. Consider two arrays A and B of shape (8,3) and (2,2). How to find rows of A that contain elements of each row of B regardless of the order of the elements in B? (★★★) \n",
        "(**hint**: np.where)"
      ]
    },
    {
      "cell_type": "code",
      "execution_count": 50,
      "metadata": {
        "id": "0_rkyI4fG_vv",
        "colab": {
          "base_uri": "https://localhost:8080/"
        },
        "outputId": "a3cac263-15ed-4956-fda9-4ac1ad017606"
      },
      "outputs": [
        {
          "output_type": "execute_result",
          "data": {
            "text/plain": [
              "array([1, 3, 5])"
            ]
          },
          "metadata": {},
          "execution_count": 50
        }
      ],
      "source": [
        "A=np.random.randint(0,7,(8,3))\n",
        "B=np.random.randint(0,7,(2,2))\n",
        "C=(A[..., np.newaxis, np.newaxis] == B)\n",
        "np.where(C.any((3,1)).all(1))[0]"
      ]
    },
    {
      "cell_type": "markdown",
      "metadata": {
        "id": "PWV4iDgUG_vw"
      },
      "source": [
        "#### 94. Considering a 10x3 matrix, extract rows with unequal values (e.g. \\[2,2,3\\]) (★★★)"
      ]
    },
    {
      "cell_type": "code",
      "execution_count": 51,
      "metadata": {
        "id": "o43GxR5MG_vw",
        "colab": {
          "base_uri": "https://localhost:8080/"
        },
        "outputId": "12f83855-3189-4209-8580-34eae08c2844"
      },
      "outputs": [
        {
          "output_type": "stream",
          "name": "stdout",
          "text": [
            "[[ 2  6  0]\n",
            " [16  8 14]\n",
            " [18  9  2]\n",
            " [ 4 13  5]\n",
            " [ 2  0  1]\n",
            " [ 7 10  7]\n",
            " [ 6  2 14]\n",
            " [13 10  4]\n",
            " [14 18  2]\n",
            " [15  2 14]]\n",
            "[[ 2  6  0]\n",
            " [16  8 14]\n",
            " [18  9  2]\n",
            " [ 4 13  5]\n",
            " [ 2  0  1]\n",
            " [ 7 10  7]\n",
            " [ 6  2 14]\n",
            " [13 10  4]\n",
            " [14 18  2]\n",
            " [15  2 14]]\n"
          ]
        }
      ],
      "source": [
        "n=np.random.randint(0,19,(10,3))\n",
        "m=np.logical_and.reduce(n[:,1:] == n[:,:-1], axis=1)\n",
        "n_new=n[~m]\n",
        "print(n)\n",
        "print(n_new)"
      ]
    },
    {
      "cell_type": "markdown",
      "metadata": {
        "id": "O6Yx4ZMYG_vx"
      },
      "source": [
        "#### 95. Convert a vector of ints into a matrix binary representation (★★★) \n",
        "(**hint**: np.unpackbits)"
      ]
    },
    {
      "cell_type": "code",
      "execution_count": 52,
      "metadata": {
        "id": "2nIW6LDjG_vx",
        "colab": {
          "base_uri": "https://localhost:8080/"
        },
        "outputId": "86a9a2ac-95ae-4ed8-ddde-e431816fe270"
      },
      "outputs": [
        {
          "output_type": "execute_result",
          "data": {
            "text/plain": [
              "array([], shape=(0, 1, 2, 34, 5, 6, 7, 9), dtype=uint8)"
            ]
          },
          "metadata": {},
          "execution_count": 52
        }
      ],
      "source": [
        "n=np.ndarray([0, 1,2,34,5,6,7,9], dtype=np.uint8)\n",
        "np.unpackbits(n)\n",
        "n"
      ]
    },
    {
      "cell_type": "markdown",
      "metadata": {
        "id": "8haC-IdhG_vx"
      },
      "source": [
        "#### 96. Given a two dimensional array, how to extract unique rows? (★★★) \n",
        "(**hint**: np.ascontiguousarray)"
      ]
    },
    {
      "cell_type": "code",
      "execution_count": 53,
      "metadata": {
        "id": "SZW3PNhhG_vx",
        "colab": {
          "base_uri": "https://localhost:8080/"
        },
        "outputId": "ac49dfdf-2fca-4e0c-c133-03e91665896f"
      },
      "outputs": [
        {
          "output_type": "stream",
          "name": "stdout",
          "text": [
            "[[1 1 2]\n",
            " [2 1 1]\n",
            " [2 1 1]\n",
            " [1 0 1]\n",
            " [1 1 2]]\n"
          ]
        },
        {
          "output_type": "execute_result",
          "data": {
            "text/plain": [
              "array([[1, 0, 1],\n",
              "       [1, 1, 2],\n",
              "       [2, 1, 1]])"
            ]
          },
          "metadata": {},
          "execution_count": 53
        }
      ],
      "source": [
        "n=np.array(([1 ,1, 2],\n",
        "              [2 ,1, 1],\n",
        "              [2 ,1, 1],\n",
        "              [1 ,0, 1],\n",
        "              [1 ,1, 2]\n",
        "            ))\n",
        "print(n)\n",
        "# np.ascontiguousarray(n)     #ascontiguous gives contiguous array rows not unique, so used unique instead.\n",
        "np.unique(n,axis=0)\n"
      ]
    },
    {
      "cell_type": "markdown",
      "metadata": {
        "id": "3QOX6XBwG_vy"
      },
      "source": [
        "#### 97. Considering 2 vectors A & B, write the einsum equivalent of inner, outer, sum, and mul function (★★★) \n",
        "(**hint**: np.einsum)"
      ]
    },
    {
      "cell_type": "code",
      "execution_count": 54,
      "metadata": {
        "id": "JGW5QG0OG_vy",
        "colab": {
          "base_uri": "https://localhost:8080/"
        },
        "outputId": "b5ad6c38-715a-43a5-dc86-05ff56e8c0e6"
      },
      "outputs": [
        {
          "output_type": "execute_result",
          "data": {
            "text/plain": [
              "array([[0.22819776, 0.0884009 , 0.12573711, 0.05054167, 0.03151755,\n",
              "        0.21321245, 0.22278775, 0.04227126, 0.05825434, 0.18715256],\n",
              "       [0.41233017, 0.15973145, 0.22719419, 0.09132366, 0.05694902,\n",
              "        0.38525324, 0.40255484, 0.07637988, 0.10525968, 0.33816566],\n",
              "       [0.16513946, 0.06397292, 0.09099195, 0.0365754 , 0.02280825,\n",
              "        0.15429507, 0.16122441, 0.03059037, 0.04215681, 0.13543636],\n",
              "       [0.19803231, 0.07671519, 0.10911593, 0.04386057, 0.02735125,\n",
              "        0.18502791, 0.19333745, 0.03668343, 0.0505537 , 0.16241287],\n",
              "       [0.16565523, 0.06417273, 0.09127614, 0.03668963, 0.02287949,\n",
              "        0.15477697, 0.16172795, 0.03068591, 0.04228848, 0.13585936],\n",
              "       [0.08199372, 0.03176332, 0.04517859, 0.01816012, 0.01132457,\n",
              "        0.07660935, 0.08004985, 0.01518848, 0.02093136, 0.06724577],\n",
              "       [0.41913817, 0.16236878, 0.2309454 , 0.09283151, 0.05788931,\n",
              "        0.39161417, 0.40920143, 0.07764099, 0.10699762, 0.34374912],\n",
              "       [0.2689081 , 0.10417157, 0.14816853, 0.05955827, 0.03714027,\n",
              "        0.25124942, 0.26253295, 0.04981243, 0.06864688, 0.22054045],\n",
              "       [0.33615917, 0.13022378, 0.18522392, 0.07445317, 0.04642866,\n",
              "        0.31408424, 0.32818966, 0.06226999, 0.08581474, 0.27569529],\n",
              "       [0.02786127, 0.0107931 , 0.01535158, 0.00617077, 0.00384806,\n",
              "        0.02603167, 0.02720075, 0.00516101, 0.00711243, 0.02284995]])"
            ]
          },
          "metadata": {},
          "execution_count": 54
        }
      ],
      "source": [
        "A = np.random.uniform(0,1,10)\n",
        "B = np.random.uniform(0,1,10)\n",
        "np.einsum('i->', A) # np.sum(A)\n",
        "np.einsum('i,i->i', A, B) # A * B\n",
        "np.einsum('i,i', A, B) # np.inner(A, B)\n",
        "np.einsum('i,j', A, B) # np.outer(A, B)"
      ]
    },
    {
      "cell_type": "markdown",
      "metadata": {
        "id": "ao69NGMUG_vy"
      },
      "source": [
        "#### 98. Considering a path described by two vectors (X,Y), how to sample it using equidistant samples (★★★)? \n",
        "(**hint**: np.cumsum, np.interp)"
      ]
    },
    {
      "cell_type": "code",
      "execution_count": 55,
      "metadata": {
        "collapsed": true,
        "id": "KrH_s4JLG_vy",
        "colab": {
          "base_uri": "https://localhost:8080/"
        },
        "outputId": "96783209-9401-4ee8-8324-3f086f8387ff"
      },
      "outputs": [
        {
          "output_type": "stream",
          "name": "stdout",
          "text": [
            "[[1 1]\n",
            " [1 4]\n",
            " [1 0]\n",
            " [3 2]\n",
            " [4 2]\n",
            " [2 2]\n",
            " [2 1]\n",
            " [2 2]\n",
            " [3 0]\n",
            " [1 1]]\n"
          ]
        },
        {
          "output_type": "execute_result",
          "data": {
            "text/plain": [
              "array([ 1,  2,  3,  7,  8,  8, 11, 13, 17, 19, 21, 23, 25, 26, 28, 30, 33,\n",
              "       33, 34, 35, 39, 43, 47, 50, 54, 55, 59, 59, 59, 60, 61, 65, 67, 69,\n",
              "       71, 74, 76, 76, 80, 80])"
            ]
          },
          "metadata": {},
          "execution_count": 55
        }
      ],
      "source": [
        "X=np.random.randint(0,5,(10,2))\n",
        "Y=np.random.randint(0,5,(10,2))\n",
        "print(X)\n",
        "# UNDEF = -99.0\n",
        "# np.interp(2.5,X,Y,right=UNDEF)\n",
        "np.cumsum((X,Y))"
      ]
    },
    {
      "cell_type": "markdown",
      "metadata": {
        "id": "oLy0mrRNG_vz"
      },
      "source": [
        "#### 99. Given an integer n and a 2D array X, select from X the rows which can be interpreted as draws from a multinomial distribution with n degrees, i.e., the rows which only contain integers and which sum to n. (★★★) \n",
        "(**hint**: np.logical\\_and.reduce, np.mod)"
      ]
    },
    {
      "cell_type": "code",
      "execution_count": 56,
      "metadata": {
        "id": "wWsQ9aWeG_vz",
        "colab": {
          "base_uri": "https://localhost:8080/"
        },
        "outputId": "2bbcc8ef-4d11-4e9d-c781-240fdcb14652"
      },
      "outputs": [
        {
          "output_type": "execute_result",
          "data": {
            "text/plain": [
              "array([[2., 0., 1., 1.]])"
            ]
          },
          "metadata": {},
          "execution_count": 56
        }
      ],
      "source": [
        "X = np.asarray([[1.0, 0.0, 3.0, 8.0],\n",
        "[2.0, 0.0, 1.0, 1.0],\n",
        "[1.5, 2.5, 1.0, 0.0]])\n",
        "n = 4\n",
        "M = np.logical_and.reduce(np.mod(X, 1) == 0, axis=-1)\n",
        "M &= (X.sum(axis=-1) == n)\n",
        "X[M]"
      ]
    },
    {
      "cell_type": "markdown",
      "metadata": {
        "id": "d7Eyt48AG_vz"
      },
      "source": [
        "#### 100. Compute bootstrapped 95% confidence intervals for the mean of a 1D array X (i.e., resample the elements of an array with replacement N times, compute the mean of each sample, and then compute percentiles over the means). (★★★) \n",
        "(**hint**: np.percentile)"
      ]
    },
    {
      "cell_type": "code",
      "execution_count": 57,
      "metadata": {
        "id": "i6HdgMjYG_vz",
        "colab": {
          "base_uri": "https://localhost:8080/"
        },
        "outputId": "7c680216-7548-4346-86ca-91eaf0890523"
      },
      "outputs": [
        {
          "output_type": "execute_result",
          "data": {
            "text/plain": [
              "array([-0.28147747,  0.09833062])"
            ]
          },
          "metadata": {},
          "execution_count": 57
        }
      ],
      "source": [
        "X = np.random.randn(100) # random 1D array\n",
        "N = 1000 # number of bootstrap samples\n",
        "idx = np.random.randint(0, X.size, (N, X.size))\n",
        "means = X[idx].mean(axis=1)\n",
        "confint = np.percentile(means, [2.5, 97.5])\n",
        "confint"
      ]
    }
  ],
  "metadata": {
    "kernelspec": {
      "display_name": "Python 3",
      "language": "python",
      "name": "python3"
    },
    "language_info": {
      "codemirror_mode": {
        "name": "ipython",
        "version": 3
      },
      "file_extension": ".py",
      "mimetype": "text/x-python",
      "name": "python",
      "nbconvert_exporter": "python",
      "pygments_lexer": "ipython3",
      "version": "3.8.3"
    },
    "colab": {
      "name": "Numpy.ipynb",
      "provenance": [],
      "collapsed_sections": []
    }
  },
  "nbformat": 4,
  "nbformat_minor": 0
}